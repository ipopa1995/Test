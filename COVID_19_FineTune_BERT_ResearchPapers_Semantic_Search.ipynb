{
  "nbformat": 4,
  "nbformat_minor": 0,
  "metadata": {
    "colab": {
      "name": "COVID_19_FineTune_BERT_ResearchPapers_Semantic_Search.ipynb",
      "provenance": [],
      "collapsed_sections": [
        "s7hJ6rfxA5Fr",
        "sFVjsMb8xPkD"
      ],
      "machine_shape": "hm",
      "include_colab_link": true
    },
    "kernelspec": {
      "name": "python3",
      "display_name": "Python 3.8.8 64-bit ('base': conda)"
    },
    "accelerator": "GPU",
    "language_info": {
      "name": "python",
      "version": "3.8.8",
      "mimetype": "text/x-python",
      "codemirror_mode": {
        "name": "ipython",
        "version": 3
      },
      "pygments_lexer": "ipython3",
      "nbconvert_exporter": "python",
      "file_extension": ".py"
    },
    "interpreter": {
      "hash": "07efdcd4b820c98a756949507a4d29d7862823915ec7477944641bea022f4f62"
    },
    "widgets": {
      "application/vnd.jupyter.widget-state+json": {
        "6054f5b22a9b47888789b732e483f87f": {
          "model_module": "@jupyter-widgets/controls",
          "model_name": "HBoxModel",
          "model_module_version": "1.5.0",
          "state": {
            "_view_name": "HBoxView",
            "_dom_classes": [],
            "_model_name": "HBoxModel",
            "_view_module": "@jupyter-widgets/controls",
            "_model_module_version": "1.5.0",
            "_view_count": null,
            "_view_module_version": "1.5.0",
            "box_style": "",
            "layout": "IPY_MODEL_19bd753e30f041369dfadf1200f777f9",
            "_model_module": "@jupyter-widgets/controls",
            "children": [
              "IPY_MODEL_86b4a7d4b8144ef28894b5e9854f3e59",
              "IPY_MODEL_7da3ed545e92417bb23b9585037bcbba",
              "IPY_MODEL_a0f4dcf8259b4350a2789d14e54dac19"
            ]
          }
        },
        "19bd753e30f041369dfadf1200f777f9": {
          "model_module": "@jupyter-widgets/base",
          "model_name": "LayoutModel",
          "model_module_version": "1.2.0",
          "state": {
            "_view_name": "LayoutView",
            "grid_template_rows": null,
            "right": null,
            "justify_content": null,
            "_view_module": "@jupyter-widgets/base",
            "overflow": null,
            "_model_module_version": "1.2.0",
            "_view_count": null,
            "flex_flow": null,
            "width": null,
            "min_width": null,
            "border": null,
            "align_items": null,
            "bottom": null,
            "_model_module": "@jupyter-widgets/base",
            "top": null,
            "grid_column": null,
            "overflow_y": null,
            "overflow_x": null,
            "grid_auto_flow": null,
            "grid_area": null,
            "grid_template_columns": null,
            "flex": null,
            "_model_name": "LayoutModel",
            "justify_items": null,
            "grid_row": null,
            "max_height": null,
            "align_content": null,
            "visibility": null,
            "align_self": null,
            "height": null,
            "min_height": null,
            "padding": null,
            "grid_auto_rows": null,
            "grid_gap": null,
            "max_width": null,
            "order": null,
            "_view_module_version": "1.2.0",
            "grid_template_areas": null,
            "object_position": null,
            "object_fit": null,
            "grid_auto_columns": null,
            "margin": null,
            "display": null,
            "left": null
          }
        },
        "86b4a7d4b8144ef28894b5e9854f3e59": {
          "model_module": "@jupyter-widgets/controls",
          "model_name": "HTMLModel",
          "model_module_version": "1.5.0",
          "state": {
            "_view_name": "HTMLView",
            "style": "IPY_MODEL_4542779ff4f742d9b72e37b238c41d33",
            "_dom_classes": [],
            "description": "",
            "_model_name": "HTMLModel",
            "placeholder": "​",
            "_view_module": "@jupyter-widgets/controls",
            "_model_module_version": "1.5.0",
            "value": "Batches: 100%",
            "_view_count": null,
            "_view_module_version": "1.5.0",
            "description_tooltip": null,
            "_model_module": "@jupyter-widgets/controls",
            "layout": "IPY_MODEL_4aeb20370ec948b0a0ad7c1960fad63c"
          }
        },
        "7da3ed545e92417bb23b9585037bcbba": {
          "model_module": "@jupyter-widgets/controls",
          "model_name": "FloatProgressModel",
          "model_module_version": "1.5.0",
          "state": {
            "_view_name": "ProgressView",
            "style": "IPY_MODEL_0e5c28af96a1474eb10c6f730577e162",
            "_dom_classes": [],
            "description": "",
            "_model_name": "FloatProgressModel",
            "bar_style": "success",
            "max": 709,
            "_view_module": "@jupyter-widgets/controls",
            "_model_module_version": "1.5.0",
            "value": 709,
            "_view_count": null,
            "_view_module_version": "1.5.0",
            "orientation": "horizontal",
            "min": 0,
            "description_tooltip": null,
            "_model_module": "@jupyter-widgets/controls",
            "layout": "IPY_MODEL_2d3123bbe20746179bf1f003381da0d3"
          }
        },
        "a0f4dcf8259b4350a2789d14e54dac19": {
          "model_module": "@jupyter-widgets/controls",
          "model_name": "HTMLModel",
          "model_module_version": "1.5.0",
          "state": {
            "_view_name": "HTMLView",
            "style": "IPY_MODEL_139e859f07ea4fe092cfe8467ee3bfd9",
            "_dom_classes": [],
            "description": "",
            "_model_name": "HTMLModel",
            "placeholder": "​",
            "_view_module": "@jupyter-widgets/controls",
            "_model_module_version": "1.5.0",
            "value": " 709/709 [00:26&lt;00:00, 125.64it/s]",
            "_view_count": null,
            "_view_module_version": "1.5.0",
            "description_tooltip": null,
            "_model_module": "@jupyter-widgets/controls",
            "layout": "IPY_MODEL_1c05d4616dbf4d5bb94a879623797653"
          }
        },
        "4542779ff4f742d9b72e37b238c41d33": {
          "model_module": "@jupyter-widgets/controls",
          "model_name": "DescriptionStyleModel",
          "model_module_version": "1.5.0",
          "state": {
            "_view_name": "StyleView",
            "_model_name": "DescriptionStyleModel",
            "description_width": "",
            "_view_module": "@jupyter-widgets/base",
            "_model_module_version": "1.5.0",
            "_view_count": null,
            "_view_module_version": "1.2.0",
            "_model_module": "@jupyter-widgets/controls"
          }
        },
        "4aeb20370ec948b0a0ad7c1960fad63c": {
          "model_module": "@jupyter-widgets/base",
          "model_name": "LayoutModel",
          "model_module_version": "1.2.0",
          "state": {
            "_view_name": "LayoutView",
            "grid_template_rows": null,
            "right": null,
            "justify_content": null,
            "_view_module": "@jupyter-widgets/base",
            "overflow": null,
            "_model_module_version": "1.2.0",
            "_view_count": null,
            "flex_flow": null,
            "width": null,
            "min_width": null,
            "border": null,
            "align_items": null,
            "bottom": null,
            "_model_module": "@jupyter-widgets/base",
            "top": null,
            "grid_column": null,
            "overflow_y": null,
            "overflow_x": null,
            "grid_auto_flow": null,
            "grid_area": null,
            "grid_template_columns": null,
            "flex": null,
            "_model_name": "LayoutModel",
            "justify_items": null,
            "grid_row": null,
            "max_height": null,
            "align_content": null,
            "visibility": null,
            "align_self": null,
            "height": null,
            "min_height": null,
            "padding": null,
            "grid_auto_rows": null,
            "grid_gap": null,
            "max_width": null,
            "order": null,
            "_view_module_version": "1.2.0",
            "grid_template_areas": null,
            "object_position": null,
            "object_fit": null,
            "grid_auto_columns": null,
            "margin": null,
            "display": null,
            "left": null
          }
        },
        "0e5c28af96a1474eb10c6f730577e162": {
          "model_module": "@jupyter-widgets/controls",
          "model_name": "ProgressStyleModel",
          "model_module_version": "1.5.0",
          "state": {
            "_view_name": "StyleView",
            "_model_name": "ProgressStyleModel",
            "description_width": "",
            "_view_module": "@jupyter-widgets/base",
            "_model_module_version": "1.5.0",
            "_view_count": null,
            "_view_module_version": "1.2.0",
            "bar_color": null,
            "_model_module": "@jupyter-widgets/controls"
          }
        },
        "2d3123bbe20746179bf1f003381da0d3": {
          "model_module": "@jupyter-widgets/base",
          "model_name": "LayoutModel",
          "model_module_version": "1.2.0",
          "state": {
            "_view_name": "LayoutView",
            "grid_template_rows": null,
            "right": null,
            "justify_content": null,
            "_view_module": "@jupyter-widgets/base",
            "overflow": null,
            "_model_module_version": "1.2.0",
            "_view_count": null,
            "flex_flow": null,
            "width": null,
            "min_width": null,
            "border": null,
            "align_items": null,
            "bottom": null,
            "_model_module": "@jupyter-widgets/base",
            "top": null,
            "grid_column": null,
            "overflow_y": null,
            "overflow_x": null,
            "grid_auto_flow": null,
            "grid_area": null,
            "grid_template_columns": null,
            "flex": null,
            "_model_name": "LayoutModel",
            "justify_items": null,
            "grid_row": null,
            "max_height": null,
            "align_content": null,
            "visibility": null,
            "align_self": null,
            "height": null,
            "min_height": null,
            "padding": null,
            "grid_auto_rows": null,
            "grid_gap": null,
            "max_width": null,
            "order": null,
            "_view_module_version": "1.2.0",
            "grid_template_areas": null,
            "object_position": null,
            "object_fit": null,
            "grid_auto_columns": null,
            "margin": null,
            "display": null,
            "left": null
          }
        },
        "139e859f07ea4fe092cfe8467ee3bfd9": {
          "model_module": "@jupyter-widgets/controls",
          "model_name": "DescriptionStyleModel",
          "model_module_version": "1.5.0",
          "state": {
            "_view_name": "StyleView",
            "_model_name": "DescriptionStyleModel",
            "description_width": "",
            "_view_module": "@jupyter-widgets/base",
            "_model_module_version": "1.5.0",
            "_view_count": null,
            "_view_module_version": "1.2.0",
            "_model_module": "@jupyter-widgets/controls"
          }
        },
        "1c05d4616dbf4d5bb94a879623797653": {
          "model_module": "@jupyter-widgets/base",
          "model_name": "LayoutModel",
          "model_module_version": "1.2.0",
          "state": {
            "_view_name": "LayoutView",
            "grid_template_rows": null,
            "right": null,
            "justify_content": null,
            "_view_module": "@jupyter-widgets/base",
            "overflow": null,
            "_model_module_version": "1.2.0",
            "_view_count": null,
            "flex_flow": null,
            "width": null,
            "min_width": null,
            "border": null,
            "align_items": null,
            "bottom": null,
            "_model_module": "@jupyter-widgets/base",
            "top": null,
            "grid_column": null,
            "overflow_y": null,
            "overflow_x": null,
            "grid_auto_flow": null,
            "grid_area": null,
            "grid_template_columns": null,
            "flex": null,
            "_model_name": "LayoutModel",
            "justify_items": null,
            "grid_row": null,
            "max_height": null,
            "align_content": null,
            "visibility": null,
            "align_self": null,
            "height": null,
            "min_height": null,
            "padding": null,
            "grid_auto_rows": null,
            "grid_gap": null,
            "max_width": null,
            "order": null,
            "_view_module_version": "1.2.0",
            "grid_template_areas": null,
            "object_position": null,
            "object_fit": null,
            "grid_auto_columns": null,
            "margin": null,
            "display": null,
            "left": null
          }
        },
        "069a9dce24794161884e64ebe98be6de": {
          "model_module": "@jupyter-widgets/controls",
          "model_name": "HBoxModel",
          "model_module_version": "1.5.0",
          "state": {
            "_view_name": "HBoxView",
            "_dom_classes": [],
            "_model_name": "HBoxModel",
            "_view_module": "@jupyter-widgets/controls",
            "_model_module_version": "1.5.0",
            "_view_count": null,
            "_view_module_version": "1.5.0",
            "box_style": "",
            "layout": "IPY_MODEL_65265159695e4c26804c85b00639ba5b",
            "_model_module": "@jupyter-widgets/controls",
            "children": [
              "IPY_MODEL_708074e36f644744b9d9cdfb3462b9ae",
              "IPY_MODEL_4d70fec3535a4083b6c6cb7b490dc2e8",
              "IPY_MODEL_cdb59cbf489e4b4081c304d91c5e4018"
            ]
          }
        },
        "65265159695e4c26804c85b00639ba5b": {
          "model_module": "@jupyter-widgets/base",
          "model_name": "LayoutModel",
          "model_module_version": "1.2.0",
          "state": {
            "_view_name": "LayoutView",
            "grid_template_rows": null,
            "right": null,
            "justify_content": null,
            "_view_module": "@jupyter-widgets/base",
            "overflow": null,
            "_model_module_version": "1.2.0",
            "_view_count": null,
            "flex_flow": null,
            "width": null,
            "min_width": null,
            "border": null,
            "align_items": null,
            "bottom": null,
            "_model_module": "@jupyter-widgets/base",
            "top": null,
            "grid_column": null,
            "overflow_y": null,
            "overflow_x": null,
            "grid_auto_flow": null,
            "grid_area": null,
            "grid_template_columns": null,
            "flex": null,
            "_model_name": "LayoutModel",
            "justify_items": null,
            "grid_row": null,
            "max_height": null,
            "align_content": null,
            "visibility": null,
            "align_self": null,
            "height": null,
            "min_height": null,
            "padding": null,
            "grid_auto_rows": null,
            "grid_gap": null,
            "max_width": null,
            "order": null,
            "_view_module_version": "1.2.0",
            "grid_template_areas": null,
            "object_position": null,
            "object_fit": null,
            "grid_auto_columns": null,
            "margin": null,
            "display": null,
            "left": null
          }
        },
        "708074e36f644744b9d9cdfb3462b9ae": {
          "model_module": "@jupyter-widgets/controls",
          "model_name": "HTMLModel",
          "model_module_version": "1.5.0",
          "state": {
            "_view_name": "HTMLView",
            "style": "IPY_MODEL_7e0f6b90dd114f25a8faf9e1abe3c09c",
            "_dom_classes": [],
            "description": "",
            "_model_name": "HTMLModel",
            "placeholder": "​",
            "_view_module": "@jupyter-widgets/controls",
            "_model_module_version": "1.5.0",
            "value": "Batches: 100%",
            "_view_count": null,
            "_view_module_version": "1.5.0",
            "description_tooltip": null,
            "_model_module": "@jupyter-widgets/controls",
            "layout": "IPY_MODEL_342ae881a67245138715fcdf4031f9e7"
          }
        },
        "4d70fec3535a4083b6c6cb7b490dc2e8": {
          "model_module": "@jupyter-widgets/controls",
          "model_name": "FloatProgressModel",
          "model_module_version": "1.5.0",
          "state": {
            "_view_name": "ProgressView",
            "style": "IPY_MODEL_4552fc5984ed4ea1b2f1b92e50adf416",
            "_dom_classes": [],
            "description": "",
            "_model_name": "FloatProgressModel",
            "bar_style": "success",
            "max": 1,
            "_view_module": "@jupyter-widgets/controls",
            "_model_module_version": "1.5.0",
            "value": 1,
            "_view_count": null,
            "_view_module_version": "1.5.0",
            "orientation": "horizontal",
            "min": 0,
            "description_tooltip": null,
            "_model_module": "@jupyter-widgets/controls",
            "layout": "IPY_MODEL_b3a3c8575c214ce4a1fe9bbf68934e5a"
          }
        },
        "cdb59cbf489e4b4081c304d91c5e4018": {
          "model_module": "@jupyter-widgets/controls",
          "model_name": "HTMLModel",
          "model_module_version": "1.5.0",
          "state": {
            "_view_name": "HTMLView",
            "style": "IPY_MODEL_dd01771c24fa4b0892c7756218998beb",
            "_dom_classes": [],
            "description": "",
            "_model_name": "HTMLModel",
            "placeholder": "​",
            "_view_module": "@jupyter-widgets/controls",
            "_model_module_version": "1.5.0",
            "value": " 1/1 [00:00&lt;00:00, 16.58it/s]",
            "_view_count": null,
            "_view_module_version": "1.5.0",
            "description_tooltip": null,
            "_model_module": "@jupyter-widgets/controls",
            "layout": "IPY_MODEL_1f7f71069f1d4bf2bb65a99a28beb4d0"
          }
        },
        "7e0f6b90dd114f25a8faf9e1abe3c09c": {
          "model_module": "@jupyter-widgets/controls",
          "model_name": "DescriptionStyleModel",
          "model_module_version": "1.5.0",
          "state": {
            "_view_name": "StyleView",
            "_model_name": "DescriptionStyleModel",
            "description_width": "",
            "_view_module": "@jupyter-widgets/base",
            "_model_module_version": "1.5.0",
            "_view_count": null,
            "_view_module_version": "1.2.0",
            "_model_module": "@jupyter-widgets/controls"
          }
        },
        "342ae881a67245138715fcdf4031f9e7": {
          "model_module": "@jupyter-widgets/base",
          "model_name": "LayoutModel",
          "model_module_version": "1.2.0",
          "state": {
            "_view_name": "LayoutView",
            "grid_template_rows": null,
            "right": null,
            "justify_content": null,
            "_view_module": "@jupyter-widgets/base",
            "overflow": null,
            "_model_module_version": "1.2.0",
            "_view_count": null,
            "flex_flow": null,
            "width": null,
            "min_width": null,
            "border": null,
            "align_items": null,
            "bottom": null,
            "_model_module": "@jupyter-widgets/base",
            "top": null,
            "grid_column": null,
            "overflow_y": null,
            "overflow_x": null,
            "grid_auto_flow": null,
            "grid_area": null,
            "grid_template_columns": null,
            "flex": null,
            "_model_name": "LayoutModel",
            "justify_items": null,
            "grid_row": null,
            "max_height": null,
            "align_content": null,
            "visibility": null,
            "align_self": null,
            "height": null,
            "min_height": null,
            "padding": null,
            "grid_auto_rows": null,
            "grid_gap": null,
            "max_width": null,
            "order": null,
            "_view_module_version": "1.2.0",
            "grid_template_areas": null,
            "object_position": null,
            "object_fit": null,
            "grid_auto_columns": null,
            "margin": null,
            "display": null,
            "left": null
          }
        },
        "4552fc5984ed4ea1b2f1b92e50adf416": {
          "model_module": "@jupyter-widgets/controls",
          "model_name": "ProgressStyleModel",
          "model_module_version": "1.5.0",
          "state": {
            "_view_name": "StyleView",
            "_model_name": "ProgressStyleModel",
            "description_width": "",
            "_view_module": "@jupyter-widgets/base",
            "_model_module_version": "1.5.0",
            "_view_count": null,
            "_view_module_version": "1.2.0",
            "bar_color": null,
            "_model_module": "@jupyter-widgets/controls"
          }
        },
        "b3a3c8575c214ce4a1fe9bbf68934e5a": {
          "model_module": "@jupyter-widgets/base",
          "model_name": "LayoutModel",
          "model_module_version": "1.2.0",
          "state": {
            "_view_name": "LayoutView",
            "grid_template_rows": null,
            "right": null,
            "justify_content": null,
            "_view_module": "@jupyter-widgets/base",
            "overflow": null,
            "_model_module_version": "1.2.0",
            "_view_count": null,
            "flex_flow": null,
            "width": null,
            "min_width": null,
            "border": null,
            "align_items": null,
            "bottom": null,
            "_model_module": "@jupyter-widgets/base",
            "top": null,
            "grid_column": null,
            "overflow_y": null,
            "overflow_x": null,
            "grid_auto_flow": null,
            "grid_area": null,
            "grid_template_columns": null,
            "flex": null,
            "_model_name": "LayoutModel",
            "justify_items": null,
            "grid_row": null,
            "max_height": null,
            "align_content": null,
            "visibility": null,
            "align_self": null,
            "height": null,
            "min_height": null,
            "padding": null,
            "grid_auto_rows": null,
            "grid_gap": null,
            "max_width": null,
            "order": null,
            "_view_module_version": "1.2.0",
            "grid_template_areas": null,
            "object_position": null,
            "object_fit": null,
            "grid_auto_columns": null,
            "margin": null,
            "display": null,
            "left": null
          }
        },
        "dd01771c24fa4b0892c7756218998beb": {
          "model_module": "@jupyter-widgets/controls",
          "model_name": "DescriptionStyleModel",
          "model_module_version": "1.5.0",
          "state": {
            "_view_name": "StyleView",
            "_model_name": "DescriptionStyleModel",
            "description_width": "",
            "_view_module": "@jupyter-widgets/base",
            "_model_module_version": "1.5.0",
            "_view_count": null,
            "_view_module_version": "1.2.0",
            "_model_module": "@jupyter-widgets/controls"
          }
        },
        "1f7f71069f1d4bf2bb65a99a28beb4d0": {
          "model_module": "@jupyter-widgets/base",
          "model_name": "LayoutModel",
          "model_module_version": "1.2.0",
          "state": {
            "_view_name": "LayoutView",
            "grid_template_rows": null,
            "right": null,
            "justify_content": null,
            "_view_module": "@jupyter-widgets/base",
            "overflow": null,
            "_model_module_version": "1.2.0",
            "_view_count": null,
            "flex_flow": null,
            "width": null,
            "min_width": null,
            "border": null,
            "align_items": null,
            "bottom": null,
            "_model_module": "@jupyter-widgets/base",
            "top": null,
            "grid_column": null,
            "overflow_y": null,
            "overflow_x": null,
            "grid_auto_flow": null,
            "grid_area": null,
            "grid_template_columns": null,
            "flex": null,
            "_model_name": "LayoutModel",
            "justify_items": null,
            "grid_row": null,
            "max_height": null,
            "align_content": null,
            "visibility": null,
            "align_self": null,
            "height": null,
            "min_height": null,
            "padding": null,
            "grid_auto_rows": null,
            "grid_gap": null,
            "max_width": null,
            "order": null,
            "_view_module_version": "1.2.0",
            "grid_template_areas": null,
            "object_position": null,
            "object_fit": null,
            "grid_auto_columns": null,
            "margin": null,
            "display": null,
            "left": null
          }
        }
      }
    }
  },
  "cells": [
    {
      "cell_type": "markdown",
      "metadata": {
        "id": "view-in-github",
        "colab_type": "text"
      },
      "source": [
        "<a href=\"https://colab.research.google.com/github/ipopa1995/Test/blob/main/COVID_19_FineTune_BERT_ResearchPapers_Semantic_Search.ipynb\" target=\"_parent\"><img src=\"https://colab.research.google.com/assets/colab-badge.svg\" alt=\"Open In Colab\"/></a>"
      ]
    },
    {
      "cell_type": "markdown",
      "metadata": {
        "id": "nMKZM7dK80C7"
      },
      "source": [
        "# COVID-19-FineTune-BERT-ResearchPapers-Semantic-Search"
      ]
    },
    {
      "cell_type": "markdown",
      "metadata": {
        "id": "PlmGWQ8wC0eq"
      },
      "source": [
        "This work builds a **semantic search engine using BERT**, to search a query through the dataset of research papers provided as part of [Kaggle's competion CORD-19-research-challenge](https://www.kaggle.com/allen-institute-for-ai/CORD-19-research-challenge), we like to thank kaggle and all of the competion sponsers for this competion in bringing up efforts for fighting this virus.\n",
        "\n",
        "This work, \n",
        "1.   first divides the dataset to paragraphs\n",
        "2.   FineTune BERT to the paragraphs\n",
        "2.   then uses FineTuned BERT to embedded paragraphs of papers using \n",
        "3.   finally runs a query and returns the top 5 paragraphs and their papers' titles,abstract,abstract_summary\n",
        "\n",
        "We have built this notebook to run seamlesly on google colab, connect with google drive, and downalod the data using [kaggle api](https://github.com/Kaggle/kaggle-api), so no data is downloaded to your device, and no need to have a powerful GPU, as all is done freely through google colab, we like to thank google for providing the research community with google colab\n",
        "\n",
        "**Code** is found here [on github ](https://github.com/theamrzaki/COVID-19-BERT-ResearchPapers-Semantic-Search), we truly hope that this work has a postive impact in the fight aganist this evil virus, we truly pray for all people to be able to win this fight.\n",
        "\n",
        "\n",
        "**References** :\n",
        "\n",
        "*   We use the library provided by [huggingface](https://github.com/huggingface) called [transformers](https://github.com/huggingface/transformers), this library makes it truly easy to fineTune BERT \n",
        "*   We use the library provided by [UKPLab](https://github.com/UKPLab) called [sentence-transformers](https://github.com/UKPLab/sentence-transformers), this library makes it truly easy to use BERT and other architectures like ALBERT,XLNet for sentence embedding, they also provide simple interface to query and cluster data.\n",
        "*   We have used the code from [maksimeren](https://www.kaggle.com/maksimeren/covid-19-literature-clustering) for data processing, we truly like to thank him.\n",
        "*   We used the concept of drawing BERT, disccussed here [Jay Alammar](http://jalammar.github.io/) in illustrating how our architecture works, his blogs are extremly informative and easily understood.\n",
        "*   We used the pre-trained models disccess in Conneau et al., 2017, show in the InferSent-Paper (Supervised Learning of Universal Sentence Representations from Natural Language Inference Data) that training on Natural Language Inference (NLI) data can produce universal sentence embeddings.\n",
        "*  We have used vector elements from [freepik](freepik.com) for drawing\n",
        "\n",
        "\n",
        "\n"
      ]
    },
    {
      "cell_type": "markdown",
      "metadata": {
        "id": "bXvHnE8cC_4S"
      },
      "source": [
        "## Architecture\n"
      ]
    },
    {
      "cell_type": "markdown",
      "metadata": {
        "id": "GsEHj4uTC8u6"
      },
      "source": [
        "\n",
        "The research papers are found in the json from the dataset in paragraphs, we use this division in the papers, then we pass these paragraphs to finetune BERT\n",
        "\n",
        "\n",
        "![alt text](https://github.com/theamrzaki/COVID-19-BERT-ResearchPapers-Semantic-Search/blob/master/assets/finetune/FineTune-04.jpg?raw=true)\n",
        "\n",
        "Then we apply embedding \n",
        "\n",
        "![alt text](https://github.com/theamrzaki/COVID-19-BERT-ResearchPapers-Semantic-Search/blob/master/assets/finetune/Embedd%202-05.jpg?raw=true)\n",
        "\n",
        "After embedding is done, we pass the embedded the query using the same bert model\n",
        "\n",
        "Then we compare the both embedding represnetations (paragraphs and query) using cosine similarity, we then return the most similar paragraphs with their paper details (title,abstract,abstract_summary)\n",
        "\n",
        "![alt text](https://github.com/theamrzaki/COVID-19-BERT-ResearchPapers-Semantic-Search/blob/master/assets/finetune/Cosine-06.jpg?raw=true)"
      ]
    },
    {
      "cell_type": "markdown",
      "metadata": {
        "id": "s7hJ6rfxA5Fr"
      },
      "source": [
        "## Install packages"
      ]
    },
    {
      "cell_type": "code",
      "metadata": {
        "colab": {
          "base_uri": "https://localhost:8080/"
        },
        "id": "ib9XFEtRISBi",
        "outputId": "50780356-3948-463f-d862-90710b22c344"
      },
      "source": [
        "from google.colab import drive\n",
        "drive.mount('/content/drive')"
      ],
      "execution_count": null,
      "outputs": [
        {
          "output_type": "stream",
          "name": "stdout",
          "text": [
            "Mounted at /content/drive\n"
          ]
        }
      ]
    },
    {
      "cell_type": "markdown",
      "metadata": {
        "id": "PAiAMSEZNEcw"
      },
      "source": [
        "https://mccormickml.com/2019/07/22/BERT-fine-tuning/\n",
        "\n",
        "https://github.com/google-research/bert/blob/master/extract_features.py#L235\n",
        "\n",
        "https://www.reddit.com/r/LanguageTechnology/comments/b3umhq/d_how_to_fine_tune_bert_embeddings_to_your_own/\n"
      ]
    },
    {
      "cell_type": "code",
      "metadata": {
        "id": "Ao77YpRn--fJ",
        "colab": {
          "base_uri": "https://localhost:8080/"
        },
        "outputId": "712b7427-14c4-42b9-953c-ca335497f6a8"
      },
      "source": [
        "!pip install transformers"
      ],
      "execution_count": null,
      "outputs": [
        {
          "output_type": "stream",
          "name": "stdout",
          "text": [
            "Collecting transformers\n",
            "  Downloading transformers-4.11.1-py3-none-any.whl (2.9 MB)\n",
            "\u001b[K     |████████████████████████████████| 2.9 MB 5.3 MB/s \n",
            "\u001b[?25hRequirement already satisfied: packaging>=20.0 in /usr/local/lib/python3.7/dist-packages (from transformers) (21.0)\n",
            "Requirement already satisfied: tqdm>=4.27 in /usr/local/lib/python3.7/dist-packages (from transformers) (4.62.3)\n",
            "Requirement already satisfied: requests in /usr/local/lib/python3.7/dist-packages (from transformers) (2.23.0)\n",
            "Requirement already satisfied: filelock in /usr/local/lib/python3.7/dist-packages (from transformers) (3.0.12)\n",
            "Requirement already satisfied: importlib-metadata in /usr/local/lib/python3.7/dist-packages (from transformers) (4.8.1)\n",
            "Requirement already satisfied: regex!=2019.12.17 in /usr/local/lib/python3.7/dist-packages (from transformers) (2019.12.20)\n",
            "Collecting huggingface-hub>=0.0.17\n",
            "  Downloading huggingface_hub-0.0.17-py3-none-any.whl (52 kB)\n",
            "\u001b[K     |████████████████████████████████| 52 kB 1.5 MB/s \n",
            "\u001b[?25hCollecting pyyaml>=5.1\n",
            "  Downloading PyYAML-5.4.1-cp37-cp37m-manylinux1_x86_64.whl (636 kB)\n",
            "\u001b[K     |████████████████████████████████| 636 kB 50.2 MB/s \n",
            "\u001b[?25hCollecting sacremoses\n",
            "  Downloading sacremoses-0.0.46-py3-none-any.whl (895 kB)\n",
            "\u001b[K     |████████████████████████████████| 895 kB 47.2 MB/s \n",
            "\u001b[?25hRequirement already satisfied: numpy>=1.17 in /usr/local/lib/python3.7/dist-packages (from transformers) (1.19.5)\n",
            "Collecting tokenizers<0.11,>=0.10.1\n",
            "  Downloading tokenizers-0.10.3-cp37-cp37m-manylinux_2_5_x86_64.manylinux1_x86_64.manylinux_2_12_x86_64.manylinux2010_x86_64.whl (3.3 MB)\n",
            "\u001b[K     |████████████████████████████████| 3.3 MB 22.2 MB/s \n",
            "\u001b[?25hRequirement already satisfied: typing-extensions in /usr/local/lib/python3.7/dist-packages (from huggingface-hub>=0.0.17->transformers) (3.7.4.3)\n",
            "Requirement already satisfied: pyparsing>=2.0.2 in /usr/local/lib/python3.7/dist-packages (from packaging>=20.0->transformers) (2.4.7)\n",
            "Requirement already satisfied: zipp>=0.5 in /usr/local/lib/python3.7/dist-packages (from importlib-metadata->transformers) (3.5.0)\n",
            "Requirement already satisfied: urllib3!=1.25.0,!=1.25.1,<1.26,>=1.21.1 in /usr/local/lib/python3.7/dist-packages (from requests->transformers) (1.24.3)\n",
            "Requirement already satisfied: certifi>=2017.4.17 in /usr/local/lib/python3.7/dist-packages (from requests->transformers) (2021.5.30)\n",
            "Requirement already satisfied: idna<3,>=2.5 in /usr/local/lib/python3.7/dist-packages (from requests->transformers) (2.10)\n",
            "Requirement already satisfied: chardet<4,>=3.0.2 in /usr/local/lib/python3.7/dist-packages (from requests->transformers) (3.0.4)\n",
            "Requirement already satisfied: joblib in /usr/local/lib/python3.7/dist-packages (from sacremoses->transformers) (1.0.1)\n",
            "Requirement already satisfied: six in /usr/local/lib/python3.7/dist-packages (from sacremoses->transformers) (1.15.0)\n",
            "Requirement already satisfied: click in /usr/local/lib/python3.7/dist-packages (from sacremoses->transformers) (7.1.2)\n",
            "Installing collected packages: tokenizers, sacremoses, pyyaml, huggingface-hub, transformers\n",
            "  Attempting uninstall: pyyaml\n",
            "    Found existing installation: PyYAML 3.13\n",
            "    Uninstalling PyYAML-3.13:\n",
            "      Successfully uninstalled PyYAML-3.13\n",
            "Successfully installed huggingface-hub-0.0.17 pyyaml-5.4.1 sacremoses-0.0.46 tokenizers-0.10.3 transformers-4.11.1\n"
          ]
        }
      ]
    },
    {
      "cell_type": "code",
      "metadata": {
        "id": "6PK6rRi4P7ON",
        "colab": {
          "base_uri": "https://localhost:8080/"
        },
        "outputId": "aaab1c89-d914-4903-813a-4178eaa07191"
      },
      "source": [
        "#first install the library that would help us use BERT in an easy to use interface\n",
        "#https://github.com/UKPLab/sentence-transformers/tree/master/sentence_transformers\n",
        "!pip install -U sentence-transformers"
      ],
      "execution_count": null,
      "outputs": [
        {
          "output_type": "stream",
          "name": "stdout",
          "text": [
            "Collecting sentence-transformers\n",
            "  Downloading sentence-transformers-2.0.0.tar.gz (85 kB)\n",
            "\u001b[?25l\r\u001b[K     |███▉                            | 10 kB 23.4 MB/s eta 0:00:01\r\u001b[K     |███████▋                        | 20 kB 25.9 MB/s eta 0:00:01\r\u001b[K     |███████████▌                    | 30 kB 12.6 MB/s eta 0:00:01\r\u001b[K     |███████████████▎                | 40 kB 9.6 MB/s eta 0:00:01\r\u001b[K     |███████████████████▏            | 51 kB 5.2 MB/s eta 0:00:01\r\u001b[K     |███████████████████████         | 61 kB 5.6 MB/s eta 0:00:01\r\u001b[K     |██████████████████████████▉     | 71 kB 6.0 MB/s eta 0:00:01\r\u001b[K     |██████████████████████████████▋ | 81 kB 6.8 MB/s eta 0:00:01\r\u001b[K     |████████████████████████████████| 85 kB 2.6 MB/s \n",
            "\u001b[?25hRequirement already satisfied: transformers<5.0.0,>=4.6.0 in /usr/local/lib/python3.7/dist-packages (from sentence-transformers) (4.11.1)\n",
            "Requirement already satisfied: tqdm in /usr/local/lib/python3.7/dist-packages (from sentence-transformers) (4.62.3)\n",
            "Requirement already satisfied: torch>=1.6.0 in /usr/local/lib/python3.7/dist-packages (from sentence-transformers) (1.9.0+cu102)\n",
            "Requirement already satisfied: torchvision in /usr/local/lib/python3.7/dist-packages (from sentence-transformers) (0.10.0+cu102)\n",
            "Requirement already satisfied: numpy in /usr/local/lib/python3.7/dist-packages (from sentence-transformers) (1.19.5)\n",
            "Requirement already satisfied: scikit-learn in /usr/local/lib/python3.7/dist-packages (from sentence-transformers) (0.22.2.post1)\n",
            "Requirement already satisfied: scipy in /usr/local/lib/python3.7/dist-packages (from sentence-transformers) (1.4.1)\n",
            "Requirement already satisfied: nltk in /usr/local/lib/python3.7/dist-packages (from sentence-transformers) (3.2.5)\n",
            "Collecting sentencepiece\n",
            "  Downloading sentencepiece-0.1.96-cp37-cp37m-manylinux_2_17_x86_64.manylinux2014_x86_64.whl (1.2 MB)\n",
            "\u001b[K     |████████████████████████████████| 1.2 MB 31.1 MB/s \n",
            "\u001b[?25hRequirement already satisfied: huggingface-hub in /usr/local/lib/python3.7/dist-packages (from sentence-transformers) (0.0.17)\n",
            "Requirement already satisfied: typing-extensions in /usr/local/lib/python3.7/dist-packages (from torch>=1.6.0->sentence-transformers) (3.7.4.3)\n",
            "Requirement already satisfied: regex!=2019.12.17 in /usr/local/lib/python3.7/dist-packages (from transformers<5.0.0,>=4.6.0->sentence-transformers) (2019.12.20)\n",
            "Requirement already satisfied: sacremoses in /usr/local/lib/python3.7/dist-packages (from transformers<5.0.0,>=4.6.0->sentence-transformers) (0.0.46)\n",
            "Requirement already satisfied: importlib-metadata in /usr/local/lib/python3.7/dist-packages (from transformers<5.0.0,>=4.6.0->sentence-transformers) (4.8.1)\n",
            "Requirement already satisfied: packaging>=20.0 in /usr/local/lib/python3.7/dist-packages (from transformers<5.0.0,>=4.6.0->sentence-transformers) (21.0)\n",
            "Requirement already satisfied: pyyaml>=5.1 in /usr/local/lib/python3.7/dist-packages (from transformers<5.0.0,>=4.6.0->sentence-transformers) (5.4.1)\n",
            "Requirement already satisfied: requests in /usr/local/lib/python3.7/dist-packages (from transformers<5.0.0,>=4.6.0->sentence-transformers) (2.23.0)\n",
            "Requirement already satisfied: filelock in /usr/local/lib/python3.7/dist-packages (from transformers<5.0.0,>=4.6.0->sentence-transformers) (3.0.12)\n",
            "Requirement already satisfied: tokenizers<0.11,>=0.10.1 in /usr/local/lib/python3.7/dist-packages (from transformers<5.0.0,>=4.6.0->sentence-transformers) (0.10.3)\n",
            "Requirement already satisfied: pyparsing>=2.0.2 in /usr/local/lib/python3.7/dist-packages (from packaging>=20.0->transformers<5.0.0,>=4.6.0->sentence-transformers) (2.4.7)\n",
            "Requirement already satisfied: zipp>=0.5 in /usr/local/lib/python3.7/dist-packages (from importlib-metadata->transformers<5.0.0,>=4.6.0->sentence-transformers) (3.5.0)\n",
            "Requirement already satisfied: six in /usr/local/lib/python3.7/dist-packages (from nltk->sentence-transformers) (1.15.0)\n",
            "Requirement already satisfied: certifi>=2017.4.17 in /usr/local/lib/python3.7/dist-packages (from requests->transformers<5.0.0,>=4.6.0->sentence-transformers) (2021.5.30)\n",
            "Requirement already satisfied: idna<3,>=2.5 in /usr/local/lib/python3.7/dist-packages (from requests->transformers<5.0.0,>=4.6.0->sentence-transformers) (2.10)\n",
            "Requirement already satisfied: chardet<4,>=3.0.2 in /usr/local/lib/python3.7/dist-packages (from requests->transformers<5.0.0,>=4.6.0->sentence-transformers) (3.0.4)\n",
            "Requirement already satisfied: urllib3!=1.25.0,!=1.25.1,<1.26,>=1.21.1 in /usr/local/lib/python3.7/dist-packages (from requests->transformers<5.0.0,>=4.6.0->sentence-transformers) (1.24.3)\n",
            "Requirement already satisfied: click in /usr/local/lib/python3.7/dist-packages (from sacremoses->transformers<5.0.0,>=4.6.0->sentence-transformers) (7.1.2)\n",
            "Requirement already satisfied: joblib in /usr/local/lib/python3.7/dist-packages (from sacremoses->transformers<5.0.0,>=4.6.0->sentence-transformers) (1.0.1)\n",
            "Requirement already satisfied: pillow>=5.3.0 in /usr/local/lib/python3.7/dist-packages (from torchvision->sentence-transformers) (7.1.2)\n",
            "Building wheels for collected packages: sentence-transformers\n",
            "  Building wheel for sentence-transformers (setup.py) ... \u001b[?25l\u001b[?25hdone\n",
            "  Created wheel for sentence-transformers: filename=sentence_transformers-2.0.0-py3-none-any.whl size=126710 sha256=16d156d91d66dac8c418ffce985b8d5b43ac2115b540188fff01002757c3461e\n",
            "  Stored in directory: /root/.cache/pip/wheels/d1/c1/0f/faafd427f705c4b012274ba60d9a91d75830306811e1355293\n",
            "Successfully built sentence-transformers\n",
            "Installing collected packages: sentencepiece, sentence-transformers\n",
            "Successfully installed sentence-transformers-2.0.0 sentencepiece-0.1.96\n"
          ]
        }
      ]
    },
    {
      "cell_type": "code",
      "metadata": {
        "id": "zAN8c4FsAYYk",
        "colab": {
          "base_uri": "https://localhost:8080/"
        },
        "outputId": "3aa088b0-c1f0-4049-e415-b754d4caf9a7"
      },
      "source": [
        "!git clone https://github.com/huggingface/transformers.git\n",
        "#https://github.com/huggingface/transformers/issues/2693"
      ],
      "execution_count": null,
      "outputs": [
        {
          "output_type": "stream",
          "name": "stdout",
          "text": [
            "Cloning into 'transformers'...\n",
            "remote: Enumerating objects: 85452, done.\u001b[K\n",
            "remote: Counting objects: 100% (289/289), done.\u001b[K\n",
            "remote: Compressing objects: 100% (152/152), done.\u001b[K\n",
            "remote: Total 85452 (delta 149), reused 226 (delta 116), pack-reused 85163\u001b[K\n",
            "Receiving objects: 100% (85452/85452), 68.51 MiB | 23.78 MiB/s, done.\n",
            "Resolving deltas: 100% (61357/61357), done.\n"
          ]
        }
      ]
    },
    {
      "cell_type": "markdown",
      "metadata": {
        "id": "K6F_3F7kaiN7"
      },
      "source": [
        "## Download & Prepocess Data\n",
        "or directly download preporcessed data from [here](https://github.com/theamrzaki/COVID-19-BERT-ResearchPapers-Semantic-Search#data-links) "
      ]
    },
    {
      "cell_type": "code",
      "metadata": {
        "id": "svOyg9Vrap6A",
        "outputId": "9c692e2c-3d51-4a49-9d1e-efdb506f7ba7"
      },
      "source": [
        "#install the kaggle data to google colab\n",
        "#https://github.com/Kaggle/kaggle-api#api-credentials\n",
        "!pip install kaggle\n",
        "import os\n",
        "!cp \"/content/kaggle.json\" /root/.kaggle\n",
        "!kaggle datasets download -d allen-institute-for-ai/CORD-19-research-challenge\n",
        "!unzip  CORD-19-research-challenge.zip -d /content/CORD-19-research-challenge"
      ],
      "execution_count": null,
      "outputs": [
        {
          "output_type": "stream",
          "name": "stdout",
          "text": [
            "^C\n"
          ]
        },
        {
          "output_type": "stream",
          "name": "stderr",
          "text": [
            "cp: cannot stat '/content/kaggle.json': No such file or directory\n",
            "'kaggle' is not recognized as an internal or external command,\n",
            "operable program or batch file.\n",
            "unzip:  cannot find or open CORD-19-research-challenge.zip, CORD-19-research-challenge.zip.zip or CORD-19-research-challenge.zip.ZIP.\n"
          ]
        }
      ]
    },
    {
      "cell_type": "markdown",
      "metadata": {
        "id": "C9wyrWwff2Eg"
      },
      "source": [
        "built using\n",
        "https://www.kaggle.com/maksimeren/covid-19-literature-clustering"
      ]
    },
    {
      "cell_type": "code",
      "metadata": {
        "colab": {
          "base_uri": "https://localhost:8080/"
        },
        "id": "JjbKQPp4WbaQ",
        "outputId": "51629878-2156-4022-93a5-8f15cc0864fa"
      },
      "source": [
        "!wget https://www.kaggle.com/allen-institute-for-ai/CORD-19-research-challenge?select=metadata.csv"
      ],
      "execution_count": null,
      "outputs": [
        {
          "output_type": "stream",
          "name": "stdout",
          "text": [
            "--2021-09-29 16:18:55--  https://www.kaggle.com/allen-institute-for-ai/CORD-19-research-challenge?select=metadata.csv\n",
            "Resolving www.kaggle.com (www.kaggle.com)... 35.244.233.98\n",
            "Connecting to www.kaggle.com (www.kaggle.com)|35.244.233.98|:443... connected.\n",
            "HTTP request sent, awaiting response... 200 OK\n",
            "Length: unspecified [text/html]\n",
            "Saving to: ‘CORD-19-research-challenge?select=metadata.csv’\n",
            "\n",
            "CORD-19-research-ch     [ <=>                ]  74.32K  --.-KB/s    in 0.03s   \n",
            "\n",
            "2021-09-29 16:18:56 (2.35 MB/s) - ‘CORD-19-research-challenge?select=metadata.csv’ saved [76103]\n",
            "\n"
          ]
        }
      ]
    },
    {
      "cell_type": "code",
      "metadata": {
        "id": "aUsuL1pYfTzl"
      },
      "source": [
        "import glob\n",
        "import json\n",
        "import pandas as pd\n",
        "from tqdm import tqdm\n",
        "root_path = '/content/drive/MyDrive/Python/CORD-19-research-challenge'\n",
        "all_json = glob.glob(f'{root_path}/**/*.json', recursive=True)\n",
        "len(all_json)"
      ],
      "execution_count": null,
      "outputs": []
    },
    {
      "cell_type": "code",
      "metadata": {
        "id": "9ioYpWc-gI11",
        "colab": {
          "base_uri": "https://localhost:8080/",
          "height": 608
        },
        "outputId": "723a2dcc-42f8-4995-c0d4-c4849115b516"
      },
      "source": [
        "metadata_path = f'{root_path}/metadata.csv'\n",
        "meta_df = pd.read_csv(metadata_path, dtype={\n",
        "    'pubmed_id': str,\n",
        "    'Microsoft Academic Paper ID': str, \n",
        "    'doi': str\n",
        "})\n",
        "meta_df.head()"
      ],
      "execution_count": null,
      "outputs": [
        {
          "output_type": "stream",
          "name": "stderr",
          "text": [
            "/usr/local/lib/python3.7/dist-packages/IPython/core/interactiveshell.py:2718: DtypeWarning: Columns (1,5,13,14,15,16) have mixed types.Specify dtype option on import or set low_memory=False.\n",
            "  interactivity=interactivity, compiler=compiler, result=result)\n"
          ]
        },
        {
          "output_type": "execute_result",
          "data": {
            "text/html": [
              "<div>\n",
              "<style scoped>\n",
              "    .dataframe tbody tr th:only-of-type {\n",
              "        vertical-align: middle;\n",
              "    }\n",
              "\n",
              "    .dataframe tbody tr th {\n",
              "        vertical-align: top;\n",
              "    }\n",
              "\n",
              "    .dataframe thead th {\n",
              "        text-align: right;\n",
              "    }\n",
              "</style>\n",
              "<table border=\"1\" class=\"dataframe\">\n",
              "  <thead>\n",
              "    <tr style=\"text-align: right;\">\n",
              "      <th></th>\n",
              "      <th>cord_uid</th>\n",
              "      <th>sha</th>\n",
              "      <th>source_x</th>\n",
              "      <th>title</th>\n",
              "      <th>doi</th>\n",
              "      <th>pmcid</th>\n",
              "      <th>pubmed_id</th>\n",
              "      <th>license</th>\n",
              "      <th>abstract</th>\n",
              "      <th>publish_time</th>\n",
              "      <th>authors</th>\n",
              "      <th>journal</th>\n",
              "      <th>mag_id</th>\n",
              "      <th>who_covidence_id</th>\n",
              "      <th>arxiv_id</th>\n",
              "      <th>pdf_json_files</th>\n",
              "      <th>pmc_json_files</th>\n",
              "      <th>url</th>\n",
              "      <th>s2_id</th>\n",
              "    </tr>\n",
              "  </thead>\n",
              "  <tbody>\n",
              "    <tr>\n",
              "      <th>0</th>\n",
              "      <td>ug7v899j</td>\n",
              "      <td>d1aafb70c066a2068b02786f8929fd9c900897fb</td>\n",
              "      <td>PMC</td>\n",
              "      <td>Clinical features of culture-proven Mycoplasma...</td>\n",
              "      <td>10.1186/1471-2334-1-6</td>\n",
              "      <td>PMC35282</td>\n",
              "      <td>11472636</td>\n",
              "      <td>no-cc</td>\n",
              "      <td>OBJECTIVE: This retrospective chart review des...</td>\n",
              "      <td>2001-07-04</td>\n",
              "      <td>Madani, Tariq A; Al-Ghamdi, Aisha A</td>\n",
              "      <td>BMC Infect Dis</td>\n",
              "      <td>NaN</td>\n",
              "      <td>NaN</td>\n",
              "      <td>NaN</td>\n",
              "      <td>document_parses/pdf_json/d1aafb70c066a2068b027...</td>\n",
              "      <td>document_parses/pmc_json/PMC35282.xml.json</td>\n",
              "      <td>https://www.ncbi.nlm.nih.gov/pmc/articles/PMC3...</td>\n",
              "      <td>NaN</td>\n",
              "    </tr>\n",
              "    <tr>\n",
              "      <th>1</th>\n",
              "      <td>02tnwd4m</td>\n",
              "      <td>6b0567729c2143a66d737eb0a2f63f2dce2e5a7d</td>\n",
              "      <td>PMC</td>\n",
              "      <td>Nitric oxide: a pro-inflammatory mediator in l...</td>\n",
              "      <td>10.1186/rr14</td>\n",
              "      <td>PMC59543</td>\n",
              "      <td>11667967</td>\n",
              "      <td>no-cc</td>\n",
              "      <td>Inflammatory diseases of the respiratory tract...</td>\n",
              "      <td>2000-08-15</td>\n",
              "      <td>Vliet, Albert van der; Eiserich, Jason P; Cros...</td>\n",
              "      <td>Respir Res</td>\n",
              "      <td>NaN</td>\n",
              "      <td>NaN</td>\n",
              "      <td>NaN</td>\n",
              "      <td>document_parses/pdf_json/6b0567729c2143a66d737...</td>\n",
              "      <td>document_parses/pmc_json/PMC59543.xml.json</td>\n",
              "      <td>https://www.ncbi.nlm.nih.gov/pmc/articles/PMC5...</td>\n",
              "      <td>NaN</td>\n",
              "    </tr>\n",
              "    <tr>\n",
              "      <th>2</th>\n",
              "      <td>ejv2xln0</td>\n",
              "      <td>06ced00a5fc04215949aa72528f2eeaae1d58927</td>\n",
              "      <td>PMC</td>\n",
              "      <td>Surfactant protein-D and pulmonary host defense</td>\n",
              "      <td>10.1186/rr19</td>\n",
              "      <td>PMC59549</td>\n",
              "      <td>11667972</td>\n",
              "      <td>no-cc</td>\n",
              "      <td>Surfactant protein-D (SP-D) participates in th...</td>\n",
              "      <td>2000-08-25</td>\n",
              "      <td>Crouch, Erika C</td>\n",
              "      <td>Respir Res</td>\n",
              "      <td>NaN</td>\n",
              "      <td>NaN</td>\n",
              "      <td>NaN</td>\n",
              "      <td>document_parses/pdf_json/06ced00a5fc04215949aa...</td>\n",
              "      <td>document_parses/pmc_json/PMC59549.xml.json</td>\n",
              "      <td>https://www.ncbi.nlm.nih.gov/pmc/articles/PMC5...</td>\n",
              "      <td>NaN</td>\n",
              "    </tr>\n",
              "    <tr>\n",
              "      <th>3</th>\n",
              "      <td>2b73a28n</td>\n",
              "      <td>348055649b6b8cf2b9a376498df9bf41f7123605</td>\n",
              "      <td>PMC</td>\n",
              "      <td>Role of endothelin-1 in lung disease</td>\n",
              "      <td>10.1186/rr44</td>\n",
              "      <td>PMC59574</td>\n",
              "      <td>11686871</td>\n",
              "      <td>no-cc</td>\n",
              "      <td>Endothelin-1 (ET-1) is a 21 amino acid peptide...</td>\n",
              "      <td>2001-02-22</td>\n",
              "      <td>Fagan, Karen A; McMurtry, Ivan F; Rodman, David M</td>\n",
              "      <td>Respir Res</td>\n",
              "      <td>NaN</td>\n",
              "      <td>NaN</td>\n",
              "      <td>NaN</td>\n",
              "      <td>document_parses/pdf_json/348055649b6b8cf2b9a37...</td>\n",
              "      <td>document_parses/pmc_json/PMC59574.xml.json</td>\n",
              "      <td>https://www.ncbi.nlm.nih.gov/pmc/articles/PMC5...</td>\n",
              "      <td>NaN</td>\n",
              "    </tr>\n",
              "    <tr>\n",
              "      <th>4</th>\n",
              "      <td>9785vg6d</td>\n",
              "      <td>5f48792a5fa08bed9f56016f4981ae2ca6031b32</td>\n",
              "      <td>PMC</td>\n",
              "      <td>Gene expression in epithelial cells in respons...</td>\n",
              "      <td>10.1186/rr61</td>\n",
              "      <td>PMC59580</td>\n",
              "      <td>11686888</td>\n",
              "      <td>no-cc</td>\n",
              "      <td>Respiratory syncytial virus (RSV) and pneumoni...</td>\n",
              "      <td>2001-05-11</td>\n",
              "      <td>Domachowske, Joseph B; Bonville, Cynthia A; Ro...</td>\n",
              "      <td>Respir Res</td>\n",
              "      <td>NaN</td>\n",
              "      <td>NaN</td>\n",
              "      <td>NaN</td>\n",
              "      <td>document_parses/pdf_json/5f48792a5fa08bed9f560...</td>\n",
              "      <td>document_parses/pmc_json/PMC59580.xml.json</td>\n",
              "      <td>https://www.ncbi.nlm.nih.gov/pmc/articles/PMC5...</td>\n",
              "      <td>NaN</td>\n",
              "    </tr>\n",
              "  </tbody>\n",
              "</table>\n",
              "</div>"
            ],
            "text/plain": [
              "   cord_uid  ... s2_id\n",
              "0  ug7v899j  ...   NaN\n",
              "1  02tnwd4m  ...   NaN\n",
              "2  ejv2xln0  ...   NaN\n",
              "3  2b73a28n  ...   NaN\n",
              "4  9785vg6d  ...   NaN\n",
              "\n",
              "[5 rows x 19 columns]"
            ]
          },
          "metadata": {},
          "execution_count": 2
        }
      ]
    },
    {
      "cell_type": "markdown",
      "metadata": {
        "id": "1a2kHu4jfySx"
      },
      "source": [
        "### Read Data (Helpers)"
      ]
    },
    {
      "cell_type": "code",
      "metadata": {
        "id": "jaqXqTfLfVDD",
        "colab": {
          "base_uri": "https://localhost:8080/"
        },
        "outputId": "3d868105-9282-4317-c260-da601286cde0"
      },
      "source": [
        "class FileReader:\n",
        "    def __init__(self, file_path):\n",
        "        with open(file_path) as file:\n",
        "            content = json.load(file)\n",
        "            self.paper_id = content['paper_id']\n",
        "            self.abstract = []\n",
        "            self.body_text = []\n",
        "            # Abstract\n",
        "            try:\n",
        "                for entry in content['abstract']:\n",
        "                    self.abstract.append(entry['text'])\n",
        "            except:\n",
        "                print(\"no abstract\")\n",
        "                self.abstract.append(\"\")\n",
        "            # Body text\n",
        "            for entry in content['body_text']:\n",
        "                self.body_text.append(entry['text'])\n",
        "            self.abstract = '\\n'.join(self.abstract)\n",
        "            self.body_text = '\\n'.join(self.body_text)\n",
        "    def __repr__(self):\n",
        "        return f'{self.paper_id}: {self.abstract[:200]}... {self.body_text[:200]}...'\n",
        "first_row = FileReader(all_json[0])\n",
        "print(first_row)"
      ],
      "execution_count": null,
      "outputs": [
        {
          "output_type": "stream",
          "name": "stdout",
          "text": [
            "45e42369763fcdbbed559074d107f42824c18dd8: ... Prior to COVID-19 travelling by air had never been easier or cheaper. 1,2 More than 4.5 5 billion people travelled by air worldwide in 2019. 3 The accessibility, safety and efficiency of 6 global air ...\n"
          ]
        }
      ]
    },
    {
      "cell_type": "code",
      "metadata": {
        "id": "ukE_CxmKf4b8"
      },
      "source": [
        "def get_breaks(content, length):\n",
        "    data = \"\"\n",
        "    words = content.split(' ')\n",
        "    total_chars = 0\n",
        "\n",
        "    # add break every length characters\n",
        "    for i in range(len(words)):\n",
        "        total_chars += len(words[i])\n",
        "        if total_chars > length:\n",
        "            data = data + \"<br>\" + words[i]\n",
        "            total_chars = 0\n",
        "        else:\n",
        "            data = data + \" \" + words[i]\n",
        "    return data"
      ],
      "execution_count": null,
      "outputs": []
    },
    {
      "cell_type": "code",
      "metadata": {
        "id": "gtDN1zQ8f63B",
        "colab": {
          "base_uri": "https://localhost:8080/",
          "height": 518
        },
        "outputId": "315ef136-73b9-44ea-ee78-ed1badfd79b3"
      },
      "source": [
        "from tqdm import tqdm\n",
        "dict_ = {'paper_id': [], 'abstract': [], 'body_text': [], 'authors': [], 'title': [], 'journal': [], 'abstract_summary': []}\n",
        "for idx, entry in enumerate(tqdm(all_json[0:1000])):\n",
        "    if idx % (len(all_json) // 10) == 0:\n",
        "        print(f'Processing index: {idx} of {len(all_json)}')\n",
        "    content = FileReader(entry)\n",
        "    \n",
        "    # get metadata information\n",
        "    meta_data = meta_df.loc[meta_df['sha'] == content.paper_id]\n",
        "    # no metadata, skip this paper\n",
        "    if len(meta_data) == 0:\n",
        "        continue\n",
        "    \n",
        "    dict_['paper_id'].append(content.paper_id)\n",
        "    dict_['abstract'].append(content.abstract)\n",
        "    dict_['body_text'].append(content.body_text)\n",
        "    \n",
        "    # also create a column for the summary of abstract to be used in a plot\n",
        "    if len(content.abstract) == 0: \n",
        "        # no abstract provided\n",
        "        dict_['abstract_summary'].append(\"Not provided.\")\n",
        "    elif len(content.abstract.split(' ')) > 100:\n",
        "        # abstract provided is too long for plot, take first 300 words append with ...\n",
        "        info = content.abstract.split(' ')[:100]\n",
        "        summary = get_breaks(' '.join(info), 40)\n",
        "        dict_['abstract_summary'].append(summary + \"...\")\n",
        "    else:\n",
        "        # abstract is short enough\n",
        "        summary = get_breaks(content.abstract, 40)\n",
        "        dict_['abstract_summary'].append(summary)\n",
        "        \n",
        "    # get metadata information\n",
        "    meta_data = meta_df.loc[meta_df['sha'] == content.paper_id]\n",
        "    \n",
        "    try:\n",
        "        # if more than one author\n",
        "        authors = meta_data['authors'].values[0].split(';')\n",
        "        if len(authors) > 2:\n",
        "            # more than 2 authors, may be problem when plotting, so take first 2 append with ...\n",
        "            dict_['authors'].append(\". \".join(authors[:2]) + \"...\")\n",
        "        else:\n",
        "            # authors will fit in plot\n",
        "            dict_['authors'].append(\". \".join(authors))\n",
        "    except Exception as e:\n",
        "        # if only one author - or Null valie\n",
        "        dict_['authors'].append(meta_data['authors'].values[0])\n",
        "    \n",
        "    # add the title information, add breaks when needed\n",
        "    try:\n",
        "        title = get_breaks(meta_data['title'].values[0], 40)\n",
        "        dict_['title'].append(title)\n",
        "    # if title was not provided\n",
        "    except Exception as e:\n",
        "        dict_['title'].append(meta_data['title'].values[0])\n",
        "    \n",
        "    # add the journal information\n",
        "    dict_['journal'].append(meta_data['journal'].values[0])\n",
        "    \n",
        "df_covid = pd.DataFrame(dict_, columns=['paper_id', 'abstract', 'body_text', 'authors', 'title', 'journal', 'abstract_summary'])\n",
        "df_covid.head()"
      ],
      "execution_count": null,
      "outputs": [
        {
          "output_type": "stream",
          "name": "stderr",
          "text": [
            "  0%|          | 2/1000 [00:00<00:59, 16.77it/s]"
          ]
        },
        {
          "output_type": "stream",
          "name": "stdout",
          "text": [
            "Processing index: 0 of 77340\n"
          ]
        },
        {
          "output_type": "stream",
          "name": "stderr",
          "text": [
            "100%|██████████| 1000/1000 [00:55<00:00, 17.94it/s]\n"
          ]
        },
        {
          "output_type": "execute_result",
          "data": {
            "text/html": [
              "<div>\n",
              "<style scoped>\n",
              "    .dataframe tbody tr th:only-of-type {\n",
              "        vertical-align: middle;\n",
              "    }\n",
              "\n",
              "    .dataframe tbody tr th {\n",
              "        vertical-align: top;\n",
              "    }\n",
              "\n",
              "    .dataframe thead th {\n",
              "        text-align: right;\n",
              "    }\n",
              "</style>\n",
              "<table border=\"1\" class=\"dataframe\">\n",
              "  <thead>\n",
              "    <tr style=\"text-align: right;\">\n",
              "      <th></th>\n",
              "      <th>paper_id</th>\n",
              "      <th>abstract</th>\n",
              "      <th>body_text</th>\n",
              "      <th>authors</th>\n",
              "      <th>title</th>\n",
              "      <th>journal</th>\n",
              "      <th>abstract_summary</th>\n",
              "    </tr>\n",
              "  </thead>\n",
              "  <tbody>\n",
              "    <tr>\n",
              "      <th>0</th>\n",
              "      <td>45e42369763fcdbbed559074d107f42824c18dd8</td>\n",
              "      <td></td>\n",
              "      <td>Prior to COVID-19 travelling by air had never ...</td>\n",
              "      <td>Sotomayor-Castillo, Cristina.  Radford, Kaitly...</td>\n",
              "      <td>Air travel in a COVID-19 world: Commercial&lt;br...</td>\n",
              "      <td>Infect Dis Health</td>\n",
              "      <td>Not provided.</td>\n",
              "    </tr>\n",
              "    <tr>\n",
              "      <th>1</th>\n",
              "      <td>45e18b23376001b3ae2b4773dbcff9e28e35c160</td>\n",
              "      <td></td>\n",
              "      <td>In today's competitive market environment in t...</td>\n",
              "      <td>Song, Mina.  Choi, Hyun-jun...</td>\n",
              "      <td>MBTI Personality Types of Korean Cabin Crew i...</td>\n",
              "      <td>Int J Environ Res Public Health</td>\n",
              "      <td>Not provided.</td>\n",
              "    </tr>\n",
              "    <tr>\n",
              "      <th>2</th>\n",
              "      <td>45e5fb242a87d0fd8c91bbf254c5d0b50719d35e</td>\n",
              "      <td>Background Acute subarachnoid hemorrhage (SAH)...</td>\n",
              "      <td>Acute subarachnoid hemorrhage (SAH) due to ane...</td>\n",
              "      <td>Theofanopoulos, Andreas.  Fermeli, Dionysia...</td>\n",
              "      <td>Effects of COVID-19 on the admissions of&lt;br&gt;a...</td>\n",
              "      <td>Neurol Sci</td>\n",
              "      <td>Background Acute subarachnoid hemorrhage&lt;br&gt;(...</td>\n",
              "    </tr>\n",
              "    <tr>\n",
              "      <th>3</th>\n",
              "      <td>45e6578dbb8a00569977f49a3eb7eacbdbf5be44</td>\n",
              "      <td>Prior studies have investigated the issue of p...</td>\n",
              "      <td>Healthcare can be provided by a public or a pr...</td>\n",
              "      <td>Wang, Jianming.  Chou, Tsung Piao...</td>\n",
              "      <td>Leaders’ Future Orientation and Public Health...</td>\n",
              "      <td>Int J Environ Res Public Health</td>\n",
              "      <td>Prior studies have investigated the issue of&lt;...</td>\n",
              "    </tr>\n",
              "    <tr>\n",
              "      <th>4</th>\n",
              "      <td>45cf4bcdf80e9ed9e3048485b0c57926028451d3</td>\n",
              "      <td></td>\n",
              "      <td>Abstract--Despite the success of renin-angiote...</td>\n",
              "      <td>Arendse, Lauren B..  Danser, A. H. Jan...</td>\n",
              "      <td>Novel Therapeutic Approaches Targeting the&lt;br...</td>\n",
              "      <td>Pharmacol Rev</td>\n",
              "      <td>Not provided.</td>\n",
              "    </tr>\n",
              "  </tbody>\n",
              "</table>\n",
              "</div>"
            ],
            "text/plain": [
              "                                   paper_id  ...                                   abstract_summary\n",
              "0  45e42369763fcdbbed559074d107f42824c18dd8  ...                                      Not provided.\n",
              "1  45e18b23376001b3ae2b4773dbcff9e28e35c160  ...                                      Not provided.\n",
              "2  45e5fb242a87d0fd8c91bbf254c5d0b50719d35e  ...   Background Acute subarachnoid hemorrhage<br>(...\n",
              "3  45e6578dbb8a00569977f49a3eb7eacbdbf5be44  ...   Prior studies have investigated the issue of<...\n",
              "4  45cf4bcdf80e9ed9e3048485b0c57926028451d3  ...                                      Not provided.\n",
              "\n",
              "[5 rows x 7 columns]"
            ]
          },
          "metadata": {},
          "execution_count": 5
        }
      ]
    },
    {
      "cell_type": "markdown",
      "metadata": {
        "id": "dS_Tcti1g00Y"
      },
      "source": [
        "### Handle Possible Duplicates"
      ]
    },
    {
      "cell_type": "code",
      "metadata": {
        "id": "pt8YNzlEgD0P",
        "colab": {
          "base_uri": "https://localhost:8080/"
        },
        "outputId": "26ea1a18-d4de-4241-c5b1-e5940cfe9eb1"
      },
      "source": [
        "df_covid.drop_duplicates(['abstract', 'body_text'], inplace=True)\n",
        "df_covid['abstract'].describe(include='all')"
      ],
      "execution_count": null,
      "outputs": [
        {
          "output_type": "execute_result",
          "data": {
            "text/plain": [
              "count     871\n",
              "unique    579\n",
              "top          \n",
              "freq      293\n",
              "Name: abstract, dtype: object"
            ]
          },
          "metadata": {},
          "execution_count": 6
        }
      ]
    },
    {
      "cell_type": "code",
      "metadata": {
        "id": "yJsPOSg0g6YQ",
        "colab": {
          "base_uri": "https://localhost:8080/"
        },
        "outputId": "9a02c75a-8ac4-4ecd-c609-6c0cc557a94f"
      },
      "source": [
        "df_covid['body_text'].describe(include='all')"
      ],
      "execution_count": null,
      "outputs": [
        {
          "output_type": "execute_result",
          "data": {
            "text/plain": [
              "count                                                   871\n",
              "unique                                                  871\n",
              "top       Non-steroidal anti-inflammatory drugs are amon...\n",
              "freq                                                      1\n",
              "Name: body_text, dtype: object"
            ]
          },
          "metadata": {},
          "execution_count": 7
        }
      ]
    },
    {
      "cell_type": "markdown",
      "metadata": {
        "id": "HOxMWZJtg_yB"
      },
      "source": [
        "### Take a Look at the Data"
      ]
    },
    {
      "cell_type": "code",
      "metadata": {
        "id": "SEcHXnMbhAhH",
        "colab": {
          "base_uri": "https://localhost:8080/",
          "height": 484
        },
        "outputId": "ce12b8c1-aee8-4545-b77f-fb3150ac1b2b"
      },
      "source": [
        "df_covid.head()"
      ],
      "execution_count": null,
      "outputs": [
        {
          "output_type": "execute_result",
          "data": {
            "text/html": [
              "<div>\n",
              "<style scoped>\n",
              "    .dataframe tbody tr th:only-of-type {\n",
              "        vertical-align: middle;\n",
              "    }\n",
              "\n",
              "    .dataframe tbody tr th {\n",
              "        vertical-align: top;\n",
              "    }\n",
              "\n",
              "    .dataframe thead th {\n",
              "        text-align: right;\n",
              "    }\n",
              "</style>\n",
              "<table border=\"1\" class=\"dataframe\">\n",
              "  <thead>\n",
              "    <tr style=\"text-align: right;\">\n",
              "      <th></th>\n",
              "      <th>paper_id</th>\n",
              "      <th>abstract</th>\n",
              "      <th>body_text</th>\n",
              "      <th>authors</th>\n",
              "      <th>title</th>\n",
              "      <th>journal</th>\n",
              "      <th>abstract_summary</th>\n",
              "    </tr>\n",
              "  </thead>\n",
              "  <tbody>\n",
              "    <tr>\n",
              "      <th>0</th>\n",
              "      <td>45e42369763fcdbbed559074d107f42824c18dd8</td>\n",
              "      <td></td>\n",
              "      <td>Prior to COVID-19 travelling by air had never ...</td>\n",
              "      <td>Sotomayor-Castillo, Cristina.  Radford, Kaitly...</td>\n",
              "      <td>Air travel in a COVID-19 world: Commercial&lt;br...</td>\n",
              "      <td>Infect Dis Health</td>\n",
              "      <td>Not provided.</td>\n",
              "    </tr>\n",
              "    <tr>\n",
              "      <th>1</th>\n",
              "      <td>45e18b23376001b3ae2b4773dbcff9e28e35c160</td>\n",
              "      <td></td>\n",
              "      <td>In today's competitive market environment in t...</td>\n",
              "      <td>Song, Mina.  Choi, Hyun-jun...</td>\n",
              "      <td>MBTI Personality Types of Korean Cabin Crew i...</td>\n",
              "      <td>Int J Environ Res Public Health</td>\n",
              "      <td>Not provided.</td>\n",
              "    </tr>\n",
              "    <tr>\n",
              "      <th>2</th>\n",
              "      <td>45e5fb242a87d0fd8c91bbf254c5d0b50719d35e</td>\n",
              "      <td>Background Acute subarachnoid hemorrhage (SAH)...</td>\n",
              "      <td>Acute subarachnoid hemorrhage (SAH) due to ane...</td>\n",
              "      <td>Theofanopoulos, Andreas.  Fermeli, Dionysia...</td>\n",
              "      <td>Effects of COVID-19 on the admissions of&lt;br&gt;a...</td>\n",
              "      <td>Neurol Sci</td>\n",
              "      <td>Background Acute subarachnoid hemorrhage&lt;br&gt;(...</td>\n",
              "    </tr>\n",
              "    <tr>\n",
              "      <th>3</th>\n",
              "      <td>45e6578dbb8a00569977f49a3eb7eacbdbf5be44</td>\n",
              "      <td>Prior studies have investigated the issue of p...</td>\n",
              "      <td>Healthcare can be provided by a public or a pr...</td>\n",
              "      <td>Wang, Jianming.  Chou, Tsung Piao...</td>\n",
              "      <td>Leaders’ Future Orientation and Public Health...</td>\n",
              "      <td>Int J Environ Res Public Health</td>\n",
              "      <td>Prior studies have investigated the issue of&lt;...</td>\n",
              "    </tr>\n",
              "    <tr>\n",
              "      <th>4</th>\n",
              "      <td>45cf4bcdf80e9ed9e3048485b0c57926028451d3</td>\n",
              "      <td></td>\n",
              "      <td>Abstract--Despite the success of renin-angiote...</td>\n",
              "      <td>Arendse, Lauren B..  Danser, A. H. Jan...</td>\n",
              "      <td>Novel Therapeutic Approaches Targeting the&lt;br...</td>\n",
              "      <td>Pharmacol Rev</td>\n",
              "      <td>Not provided.</td>\n",
              "    </tr>\n",
              "  </tbody>\n",
              "</table>\n",
              "</div>"
            ],
            "text/plain": [
              "                                   paper_id  ...                                   abstract_summary\n",
              "0  45e42369763fcdbbed559074d107f42824c18dd8  ...                                      Not provided.\n",
              "1  45e18b23376001b3ae2b4773dbcff9e28e35c160  ...                                      Not provided.\n",
              "2  45e5fb242a87d0fd8c91bbf254c5d0b50719d35e  ...   Background Acute subarachnoid hemorrhage<br>(...\n",
              "3  45e6578dbb8a00569977f49a3eb7eacbdbf5be44  ...   Prior studies have investigated the issue of<...\n",
              "4  45cf4bcdf80e9ed9e3048485b0c57926028451d3  ...                                      Not provided.\n",
              "\n",
              "[5 rows x 7 columns]"
            ]
          },
          "metadata": {},
          "execution_count": 8
        }
      ]
    },
    {
      "cell_type": "code",
      "metadata": {
        "id": "Kt2icxzXhDJx",
        "colab": {
          "base_uri": "https://localhost:8080/",
          "height": 227
        },
        "outputId": "b564edbc-9c94-47e5-e71a-88208c56cca2"
      },
      "source": [
        "df_covid.describe()"
      ],
      "execution_count": null,
      "outputs": [
        {
          "output_type": "execute_result",
          "data": {
            "text/html": [
              "<div>\n",
              "<style scoped>\n",
              "    .dataframe tbody tr th:only-of-type {\n",
              "        vertical-align: middle;\n",
              "    }\n",
              "\n",
              "    .dataframe tbody tr th {\n",
              "        vertical-align: top;\n",
              "    }\n",
              "\n",
              "    .dataframe thead th {\n",
              "        text-align: right;\n",
              "    }\n",
              "</style>\n",
              "<table border=\"1\" class=\"dataframe\">\n",
              "  <thead>\n",
              "    <tr style=\"text-align: right;\">\n",
              "      <th></th>\n",
              "      <th>paper_id</th>\n",
              "      <th>abstract</th>\n",
              "      <th>body_text</th>\n",
              "      <th>authors</th>\n",
              "      <th>title</th>\n",
              "      <th>journal</th>\n",
              "      <th>abstract_summary</th>\n",
              "    </tr>\n",
              "  </thead>\n",
              "  <tbody>\n",
              "    <tr>\n",
              "      <th>count</th>\n",
              "      <td>871</td>\n",
              "      <td>871</td>\n",
              "      <td>871</td>\n",
              "      <td>861</td>\n",
              "      <td>871</td>\n",
              "      <td>796</td>\n",
              "      <td>871</td>\n",
              "    </tr>\n",
              "    <tr>\n",
              "      <th>unique</th>\n",
              "      <td>871</td>\n",
              "      <td>579</td>\n",
              "      <td>871</td>\n",
              "      <td>861</td>\n",
              "      <td>871</td>\n",
              "      <td>559</td>\n",
              "      <td>579</td>\n",
              "    </tr>\n",
              "    <tr>\n",
              "      <th>top</th>\n",
              "      <td>46c2507be4953cfe45748ee6f996d15614839f30</td>\n",
              "      <td></td>\n",
              "      <td>Non-steroidal anti-inflammatory drugs are amon...</td>\n",
              "      <td>Cheung, Pierre.  Zhang, Bo...</td>\n",
              "      <td>SEROPREVALENCE AND CLINICAL SPECTRUM OF&lt;br&gt;SA...</td>\n",
              "      <td>Int J Environ Res Public Health</td>\n",
              "      <td>Not provided.</td>\n",
              "    </tr>\n",
              "    <tr>\n",
              "      <th>freq</th>\n",
              "      <td>1</td>\n",
              "      <td>293</td>\n",
              "      <td>1</td>\n",
              "      <td>1</td>\n",
              "      <td>1</td>\n",
              "      <td>21</td>\n",
              "      <td>293</td>\n",
              "    </tr>\n",
              "  </tbody>\n",
              "</table>\n",
              "</div>"
            ],
            "text/plain": [
              "                                        paper_id  ... abstract_summary\n",
              "count                                        871  ...              871\n",
              "unique                                       871  ...              579\n",
              "top     46c2507be4953cfe45748ee6f996d15614839f30  ...    Not provided.\n",
              "freq                                           1  ...              293\n",
              "\n",
              "[4 rows x 7 columns]"
            ]
          },
          "metadata": {},
          "execution_count": 9
        }
      ]
    },
    {
      "cell_type": "markdown",
      "metadata": {
        "id": "eOFo1hGZhWnj"
      },
      "source": [
        "### Data Pre-Process"
      ]
    },
    {
      "cell_type": "code",
      "metadata": {
        "id": "ypxaLErKhGYQ",
        "colab": {
          "base_uri": "https://localhost:8080/"
        },
        "outputId": "45f57940-2e6d-4e59-d2be-18e739129200"
      },
      "source": [
        "df_covid.dropna(inplace=True)\n",
        "df_covid.info()"
      ],
      "execution_count": null,
      "outputs": [
        {
          "output_type": "stream",
          "name": "stdout",
          "text": [
            "<class 'pandas.core.frame.DataFrame'>\n",
            "Int64Index: 786 entries, 0 to 870\n",
            "Data columns (total 7 columns):\n",
            " #   Column            Non-Null Count  Dtype \n",
            "---  ------            --------------  ----- \n",
            " 0   paper_id          786 non-null    object\n",
            " 1   abstract          786 non-null    object\n",
            " 2   body_text         786 non-null    object\n",
            " 3   authors           786 non-null    object\n",
            " 4   title             786 non-null    object\n",
            " 5   journal           786 non-null    object\n",
            " 6   abstract_summary  786 non-null    object\n",
            "dtypes: object(7)\n",
            "memory usage: 49.1+ KB\n"
          ]
        }
      ]
    },
    {
      "cell_type": "code",
      "metadata": {
        "id": "qDmPRIUchbj5"
      },
      "source": [
        "df_covid = df_covid.head(12500)"
      ],
      "execution_count": null,
      "outputs": []
    },
    {
      "cell_type": "code",
      "metadata": {
        "id": "FH_LxRnxhfzY"
      },
      "source": [
        "import re\n",
        "\n",
        "df_covid['body_text'] = df_covid['body_text'].apply(lambda x: re.sub('[^a-zA-z0-9\\s]','',x))\n",
        "df_covid['abstract'] = df_covid['abstract'].apply(lambda x: re.sub('[^a-zA-z0-9\\s]','',x))"
      ],
      "execution_count": null,
      "outputs": []
    },
    {
      "cell_type": "code",
      "metadata": {
        "id": "YwR2gI9fhiQP"
      },
      "source": [
        "def lower_case(input_str):\n",
        "    input_str = input_str.lower()\n",
        "    return input_str\n",
        "\n",
        "df_covid['body_text'] = df_covid['body_text'].apply(lambda x: lower_case(x))\n",
        "df_covid['abstract'] = df_covid['abstract'].apply(lambda x: lower_case(x))"
      ],
      "execution_count": null,
      "outputs": []
    },
    {
      "cell_type": "code",
      "metadata": {
        "id": "HbSvi-5GhmBh",
        "colab": {
          "base_uri": "https://localhost:8080/",
          "height": 418
        },
        "outputId": "8a491ead-97d8-42b6-a44d-33f95f48e7fc"
      },
      "source": [
        "df_covid.head(4)"
      ],
      "execution_count": null,
      "outputs": [
        {
          "output_type": "execute_result",
          "data": {
            "text/html": [
              "<div>\n",
              "<style scoped>\n",
              "    .dataframe tbody tr th:only-of-type {\n",
              "        vertical-align: middle;\n",
              "    }\n",
              "\n",
              "    .dataframe tbody tr th {\n",
              "        vertical-align: top;\n",
              "    }\n",
              "\n",
              "    .dataframe thead th {\n",
              "        text-align: right;\n",
              "    }\n",
              "</style>\n",
              "<table border=\"1\" class=\"dataframe\">\n",
              "  <thead>\n",
              "    <tr style=\"text-align: right;\">\n",
              "      <th></th>\n",
              "      <th>paper_id</th>\n",
              "      <th>abstract</th>\n",
              "      <th>body_text</th>\n",
              "      <th>authors</th>\n",
              "      <th>title</th>\n",
              "      <th>journal</th>\n",
              "      <th>abstract_summary</th>\n",
              "    </tr>\n",
              "  </thead>\n",
              "  <tbody>\n",
              "    <tr>\n",
              "      <th>0</th>\n",
              "      <td>45e42369763fcdbbed559074d107f42824c18dd8</td>\n",
              "      <td></td>\n",
              "      <td>prior to covid19 travelling by air had never b...</td>\n",
              "      <td>Sotomayor-Castillo, Cristina.  Radford, Kaitly...</td>\n",
              "      <td>Air travel in a COVID-19 world: Commercial&lt;br...</td>\n",
              "      <td>Infect Dis Health</td>\n",
              "      <td>Not provided.</td>\n",
              "    </tr>\n",
              "    <tr>\n",
              "      <th>1</th>\n",
              "      <td>45e18b23376001b3ae2b4773dbcff9e28e35c160</td>\n",
              "      <td></td>\n",
              "      <td>in todays competitive market environment in th...</td>\n",
              "      <td>Song, Mina.  Choi, Hyun-jun...</td>\n",
              "      <td>MBTI Personality Types of Korean Cabin Crew i...</td>\n",
              "      <td>Int J Environ Res Public Health</td>\n",
              "      <td>Not provided.</td>\n",
              "    </tr>\n",
              "    <tr>\n",
              "      <th>2</th>\n",
              "      <td>45e5fb242a87d0fd8c91bbf254c5d0b50719d35e</td>\n",
              "      <td>background acute subarachnoid hemorrhage sah d...</td>\n",
              "      <td>acute subarachnoid hemorrhage sah due to aneur...</td>\n",
              "      <td>Theofanopoulos, Andreas.  Fermeli, Dionysia...</td>\n",
              "      <td>Effects of COVID-19 on the admissions of&lt;br&gt;a...</td>\n",
              "      <td>Neurol Sci</td>\n",
              "      <td>Background Acute subarachnoid hemorrhage&lt;br&gt;(...</td>\n",
              "    </tr>\n",
              "    <tr>\n",
              "      <th>3</th>\n",
              "      <td>45e6578dbb8a00569977f49a3eb7eacbdbf5be44</td>\n",
              "      <td>prior studies have investigated the issue of p...</td>\n",
              "      <td>healthcare can be provided by a public or a pr...</td>\n",
              "      <td>Wang, Jianming.  Chou, Tsung Piao...</td>\n",
              "      <td>Leaders’ Future Orientation and Public Health...</td>\n",
              "      <td>Int J Environ Res Public Health</td>\n",
              "      <td>Prior studies have investigated the issue of&lt;...</td>\n",
              "    </tr>\n",
              "  </tbody>\n",
              "</table>\n",
              "</div>"
            ],
            "text/plain": [
              "                                   paper_id  ...                                   abstract_summary\n",
              "0  45e42369763fcdbbed559074d107f42824c18dd8  ...                                      Not provided.\n",
              "1  45e18b23376001b3ae2b4773dbcff9e28e35c160  ...                                      Not provided.\n",
              "2  45e5fb242a87d0fd8c91bbf254c5d0b50719d35e  ...   Background Acute subarachnoid hemorrhage<br>(...\n",
              "3  45e6578dbb8a00569977f49a3eb7eacbdbf5be44  ...   Prior studies have investigated the issue of<...\n",
              "\n",
              "[4 rows x 7 columns]"
            ]
          },
          "metadata": {},
          "execution_count": 14
        }
      ]
    },
    {
      "cell_type": "code",
      "metadata": {
        "id": "7u1jrmcNcjeK",
        "colab": {
          "base_uri": "https://localhost:8080/",
          "height": 165
        },
        "outputId": "4ec62c39-58e4-4449-a526-dede340f63aa"
      },
      "source": [
        "df_covid.to_csv(\"/content/drive/My Drive/Python/covid.csv\")"
      ],
      "execution_count": null,
      "outputs": [
        {
          "output_type": "error",
          "ename": "NameError",
          "evalue": "ignored",
          "traceback": [
            "\u001b[0;31m---------------------------------------------------------------------------\u001b[0m",
            "\u001b[0;31mNameError\u001b[0m                                 Traceback (most recent call last)",
            "\u001b[0;32m<ipython-input-19-99e0c72f30e2>\u001b[0m in \u001b[0;36m<module>\u001b[0;34m()\u001b[0m\n\u001b[0;32m----> 1\u001b[0;31m \u001b[0mdf_covid\u001b[0m\u001b[0;34m.\u001b[0m\u001b[0mto_csv\u001b[0m\u001b[0;34m(\u001b[0m\u001b[0;34m\"/content/drive/My Drive/Python/covid.csv\"\u001b[0m\u001b[0;34m)\u001b[0m\u001b[0;34m\u001b[0m\u001b[0;34m\u001b[0m\u001b[0m\n\u001b[0m",
            "\u001b[0;31mNameError\u001b[0m: name 'df_covid' is not defined"
          ]
        }
      ]
    },
    {
      "cell_type": "code",
      "metadata": {
        "id": "btwZT7iZdjlp",
        "colab": {
          "base_uri": "https://localhost:8080/",
          "height": 362
        },
        "outputId": "e276f43c-10ca-47a3-97f3-08ee0665ada2"
      },
      "source": [
        "df_covid_test = pd.read_csv(\"/content/drive/My Drive/Python/covid.csv\")\n",
        "text = df_covid_test.drop([\"authors\", \"journal\", \"Unnamed: 0\"], axis=1)\n",
        "text.head(5)"
      ],
      "execution_count": null,
      "outputs": [
        {
          "output_type": "execute_result",
          "data": {
            "text/html": [
              "<div>\n",
              "<style scoped>\n",
              "    .dataframe tbody tr th:only-of-type {\n",
              "        vertical-align: middle;\n",
              "    }\n",
              "\n",
              "    .dataframe tbody tr th {\n",
              "        vertical-align: top;\n",
              "    }\n",
              "\n",
              "    .dataframe thead th {\n",
              "        text-align: right;\n",
              "    }\n",
              "</style>\n",
              "<table border=\"1\" class=\"dataframe\">\n",
              "  <thead>\n",
              "    <tr style=\"text-align: right;\">\n",
              "      <th></th>\n",
              "      <th>paper_id</th>\n",
              "      <th>abstract</th>\n",
              "      <th>body_text</th>\n",
              "      <th>title</th>\n",
              "      <th>abstract_summary</th>\n",
              "    </tr>\n",
              "  </thead>\n",
              "  <tbody>\n",
              "    <tr>\n",
              "      <th>0</th>\n",
              "      <td>45e42369763fcdbbed559074d107f42824c18dd8</td>\n",
              "      <td>NaN</td>\n",
              "      <td>prior to covid19 travelling by air had never b...</td>\n",
              "      <td>Air travel in a COVID-19 world: Commercial&lt;br...</td>\n",
              "      <td>Not provided.</td>\n",
              "    </tr>\n",
              "    <tr>\n",
              "      <th>1</th>\n",
              "      <td>45e18b23376001b3ae2b4773dbcff9e28e35c160</td>\n",
              "      <td>NaN</td>\n",
              "      <td>in todays competitive market environment in th...</td>\n",
              "      <td>MBTI Personality Types of Korean Cabin Crew i...</td>\n",
              "      <td>Not provided.</td>\n",
              "    </tr>\n",
              "    <tr>\n",
              "      <th>2</th>\n",
              "      <td>45e5fb242a87d0fd8c91bbf254c5d0b50719d35e</td>\n",
              "      <td>background acute subarachnoid hemorrhage sah d...</td>\n",
              "      <td>acute subarachnoid hemorrhage sah due to aneur...</td>\n",
              "      <td>Effects of COVID-19 on the admissions of&lt;br&gt;a...</td>\n",
              "      <td>Background Acute subarachnoid hemorrhage&lt;br&gt;(...</td>\n",
              "    </tr>\n",
              "    <tr>\n",
              "      <th>3</th>\n",
              "      <td>45e6578dbb8a00569977f49a3eb7eacbdbf5be44</td>\n",
              "      <td>prior studies have investigated the issue of p...</td>\n",
              "      <td>healthcare can be provided by a public or a pr...</td>\n",
              "      <td>Leaders’ Future Orientation and Public Health...</td>\n",
              "      <td>Prior studies have investigated the issue of&lt;...</td>\n",
              "    </tr>\n",
              "    <tr>\n",
              "      <th>4</th>\n",
              "      <td>45cf4bcdf80e9ed9e3048485b0c57926028451d3</td>\n",
              "      <td>NaN</td>\n",
              "      <td>abstractdespite the success of reninangiotensi...</td>\n",
              "      <td>Novel Therapeutic Approaches Targeting the&lt;br...</td>\n",
              "      <td>Not provided.</td>\n",
              "    </tr>\n",
              "  </tbody>\n",
              "</table>\n",
              "</div>"
            ],
            "text/plain": [
              "                                   paper_id  ...                                   abstract_summary\n",
              "0  45e42369763fcdbbed559074d107f42824c18dd8  ...                                      Not provided.\n",
              "1  45e18b23376001b3ae2b4773dbcff9e28e35c160  ...                                      Not provided.\n",
              "2  45e5fb242a87d0fd8c91bbf254c5d0b50719d35e  ...   Background Acute subarachnoid hemorrhage<br>(...\n",
              "3  45e6578dbb8a00569977f49a3eb7eacbdbf5be44  ...   Prior studies have investigated the issue of<...\n",
              "4  45cf4bcdf80e9ed9e3048485b0c57926028451d3  ...                                      Not provided.\n",
              "\n",
              "[5 rows x 5 columns]"
            ]
          },
          "metadata": {},
          "execution_count": 20
        }
      ]
    },
    {
      "cell_type": "code",
      "metadata": {
        "id": "TPmt9OWTehJY"
      },
      "source": [
        "text_dict = text.to_dict()\n",
        "len_text = len(text_dict[\"paper_id\"])"
      ],
      "execution_count": null,
      "outputs": []
    },
    {
      "cell_type": "code",
      "metadata": {
        "id": "aELXYwyAht4a",
        "colab": {
          "base_uri": "https://localhost:8080/"
        },
        "outputId": "c8706d1c-b0f8-4ee7-a7f4-60ab0423ed00"
      },
      "source": [
        "paper_id_list  = []\n",
        "body_text_list = []\n",
        "\n",
        "title_list = []\n",
        "abstract_list = []\n",
        "abstract_summary_list = []\n",
        "for i in tqdm(range(0,len_text)):\n",
        "  paper_id = text_dict[\"paper_id\"][i]\n",
        "  body_text = text_dict[\"body_text\"][i].split(\"\\n\")\n",
        "  title = text_dict[\"title\"][i]\n",
        "  abstract = text_dict[\"abstract\"][i]\n",
        "  abstract_summary = text_dict[\"abstract_summary\"][i]\n",
        "  for b in body_text:\n",
        "    paper_id_list.append(paper_id)\n",
        "    body_text_list.append(b)\n",
        "    title_list.append(title)\n",
        "    abstract_list.append(abstract)\n",
        "    abstract_summary_list.append(abstract_summary)"
      ],
      "execution_count": null,
      "outputs": [
        {
          "output_type": "stream",
          "name": "stderr",
          "text": [
            "100%|██████████| 786/786 [00:00<00:00, 23535.24it/s]\n"
          ]
        }
      ]
    },
    {
      "cell_type": "code",
      "metadata": {
        "id": "VCgvs7VjWlGo",
        "colab": {
          "base_uri": "https://localhost:8080/",
          "height": 848
        },
        "outputId": "f192c0ca-2c1a-4d22-b11d-d06b6947137a"
      },
      "source": [
        "df_sentences = pd.DataFrame({\"paper_id\":paper_id_list},index=body_text_list)\n",
        "df_sentences.to_csv(\"/content/drive/My Drive/Python/covid_sentences.csv\")\n",
        "df_sentences.head()"
      ],
      "execution_count": null,
      "outputs": [
        {
          "output_type": "execute_result",
          "data": {
            "text/html": [
              "<div>\n",
              "<style scoped>\n",
              "    .dataframe tbody tr th:only-of-type {\n",
              "        vertical-align: middle;\n",
              "    }\n",
              "\n",
              "    .dataframe tbody tr th {\n",
              "        vertical-align: top;\n",
              "    }\n",
              "\n",
              "    .dataframe thead th {\n",
              "        text-align: right;\n",
              "    }\n",
              "</style>\n",
              "<table border=\"1\" class=\"dataframe\">\n",
              "  <thead>\n",
              "    <tr style=\"text-align: right;\">\n",
              "      <th></th>\n",
              "      <th>paper_id</th>\n",
              "    </tr>\n",
              "  </thead>\n",
              "  <tbody>\n",
              "    <tr>\n",
              "      <th>prior to covid19 travelling by air had never been easier or cheaper 12 more than 45 5 billion people travelled by air worldwide in 2019 3 the accessibility safety and efficiency of 6 global air travel has however brought challenges for the prevention and control of infectious 7 diseases 45 longhaul travel allows passengers to move worldwide within periods of time 8 shorter than the incubation of many infectious diseases 6 air travel has also fuelled the global 9 spread of antimicrobial resistance amr with over 20 of travellers returning from amr 10 endemic areas carrying resistance 7 sarscov2 spread worldwide and was declared a 11 global pandemic 8 in less than 3 months driven principally by the movement of infected 12 individuals by air [9] [10] [11] [12] 13</th>\n",
              "      <td>45e42369763fcdbbed559074d107f42824c18dd8</td>\n",
              "    </tr>\n",
              "    <tr>\n",
              "      <th>the emergence of covid19 and its associated travel bans have reduced international respondents were asked how concerned they were about contracting an infection while 94 travelling by air more than half 61 n125 reported being moderately 215 n44 or 95 extremely concerned 395 n81 of those reporting being extremely concerned more 96 than half 556 n45 were over 50 years old and only 119 n9 were under 30 years of 97 age genderwise the majority 84 n68 of extremely concerned respondents were 98 females few respondents 98 n20 reported having no concerns as illustrated in figure   99 1 purchase the empty seat this was a particular concern given that some airlines indicated the results from this study suggest that these kind of programs make passengers feel safer to</th>\n",
              "      <td>45e42369763fcdbbed559074d107f42824c18dd8</td>\n",
              "    </tr>\n",
              "    <tr>\n",
              "      <th>in todays competitive market environment in the aviation industry cabin crew are considered important assets for success [1]  although cabin crew are important frontline employees in the aviation industry they often encounter hassles in their work due to the pressure of operating safety duties and providing outstanding service at the same time [2]  to meet the standards of proficiency a variety of qualifications and competencies are required such as a sociable personality positive attitude empathy and decisionmaking skills in addition the cabin crew must constantly make efforts to keep customer satisfaction at a high level which includes resolving complaints</th>\n",
              "      <td>45e18b23376001b3ae2b4773dbcff9e28e35c160</td>\n",
              "    </tr>\n",
              "    <tr>\n",
              "      <th>meanwhile the aviation industry in the middle east has expanded rapidly over the past decade establishing itself as the fastestgrowing winning numerous international awards as multicultural companies they recruit cabin crew from more than 100 different countries regardless of nationality race religion or gender upon employment the cabin crew are relocated to the middle east where they experience a completely different culture from their homeland for this reason airlines look for applicants who are openminded to other cultures and have the ability to adapt to new environments without difficulty nevertheless cabin crew in middle eastern airlines have shown higher rates of resignation than other domestic airlines recent research has reported that the main causes of high turnover rates for foreign cabin crew are first acculturation stress including culture shock and homesickness and second job stress caused by emotional exhaustion jet lag shift work etc [3] [4] [5] [6] [7]</th>\n",
              "      <td>45e18b23376001b3ae2b4773dbcff9e28e35c160</td>\n",
              "    </tr>\n",
              "    <tr>\n",
              "      <th>in this study we focused on personality as the crucial factor influencing cabin crew members competency such as crosscultural adjustment competency occupational competency and coping competency according to the previous studies there is a particularly strong correlation between personality and crosscultural adjustment [8] [9] [10] [11] [12]  it has been even suggested that personality is one of the more important factors to help for effective adjustment than professional work skill which can be learned through special training [13]  furthermore it has been proven by earlier studies that personality is an important factor to predict individuals job performance or workrelated competency [14] [15] [16]</th>\n",
              "      <td>45e18b23376001b3ae2b4773dbcff9e28e35c160</td>\n",
              "    </tr>\n",
              "  </tbody>\n",
              "</table>\n",
              "</div>"
            ],
            "text/plain": [
              "                                                                                    paper_id\n",
              "prior to covid19 travelling by air had never be...  45e42369763fcdbbed559074d107f42824c18dd8\n",
              "the emergence of covid19 and its associated tra...  45e42369763fcdbbed559074d107f42824c18dd8\n",
              "in todays competitive market environment in the...  45e18b23376001b3ae2b4773dbcff9e28e35c160\n",
              "meanwhile the aviation industry in the middle e...  45e18b23376001b3ae2b4773dbcff9e28e35c160\n",
              "in this study we focused on personality as the ...  45e18b23376001b3ae2b4773dbcff9e28e35c160"
            ]
          },
          "metadata": {},
          "execution_count": 23
        }
      ]
    },
    {
      "cell_type": "code",
      "metadata": {
        "id": "Vgi6-K52eSCq",
        "colab": {
          "base_uri": "https://localhost:8080/",
          "height": 1000
        },
        "outputId": "4f8acc56-778c-456d-c427-1256f97f8116"
      },
      "source": [
        "df_sentences = pd.DataFrame({\"paper_id\":paper_id_list,\"title\":title_list,\"abstract\":abstract_list,\"abstract_summary\":abstract_summary_list},index=body_text_list)\n",
        "df_sentences.to_csv(\"/content/drive/My Drive/Python/covid_sentences_Full.csv\")\n",
        "df_sentences.head()"
      ],
      "execution_count": null,
      "outputs": [
        {
          "output_type": "execute_result",
          "data": {
            "text/html": [
              "<div>\n",
              "<style scoped>\n",
              "    .dataframe tbody tr th:only-of-type {\n",
              "        vertical-align: middle;\n",
              "    }\n",
              "\n",
              "    .dataframe tbody tr th {\n",
              "        vertical-align: top;\n",
              "    }\n",
              "\n",
              "    .dataframe thead th {\n",
              "        text-align: right;\n",
              "    }\n",
              "</style>\n",
              "<table border=\"1\" class=\"dataframe\">\n",
              "  <thead>\n",
              "    <tr style=\"text-align: right;\">\n",
              "      <th></th>\n",
              "      <th>paper_id</th>\n",
              "      <th>title</th>\n",
              "      <th>abstract</th>\n",
              "      <th>abstract_summary</th>\n",
              "    </tr>\n",
              "  </thead>\n",
              "  <tbody>\n",
              "    <tr>\n",
              "      <th>prior to covid19 travelling by air had never been easier or cheaper 12 more than 45 5 billion people travelled by air worldwide in 2019 3 the accessibility safety and efficiency of 6 global air travel has however brought challenges for the prevention and control of infectious 7 diseases 45 longhaul travel allows passengers to move worldwide within periods of time 8 shorter than the incubation of many infectious diseases 6 air travel has also fuelled the global 9 spread of antimicrobial resistance amr with over 20 of travellers returning from amr 10 endemic areas carrying resistance 7 sarscov2 spread worldwide and was declared a 11 global pandemic 8 in less than 3 months driven principally by the movement of infected 12 individuals by air [9] [10] [11] [12] 13</th>\n",
              "      <td>45e42369763fcdbbed559074d107f42824c18dd8</td>\n",
              "      <td>Air travel in a COVID-19 world: Commercial&lt;br...</td>\n",
              "      <td>NaN</td>\n",
              "      <td>Not provided.</td>\n",
              "    </tr>\n",
              "    <tr>\n",
              "      <th>the emergence of covid19 and its associated travel bans have reduced international respondents were asked how concerned they were about contracting an infection while 94 travelling by air more than half 61 n125 reported being moderately 215 n44 or 95 extremely concerned 395 n81 of those reporting being extremely concerned more 96 than half 556 n45 were over 50 years old and only 119 n9 were under 30 years of 97 age genderwise the majority 84 n68 of extremely concerned respondents were 98 females few respondents 98 n20 reported having no concerns as illustrated in figure   99 1 purchase the empty seat this was a particular concern given that some airlines indicated the results from this study suggest that these kind of programs make passengers feel safer to</th>\n",
              "      <td>45e42369763fcdbbed559074d107f42824c18dd8</td>\n",
              "      <td>Air travel in a COVID-19 world: Commercial&lt;br...</td>\n",
              "      <td>NaN</td>\n",
              "      <td>Not provided.</td>\n",
              "    </tr>\n",
              "    <tr>\n",
              "      <th>in todays competitive market environment in the aviation industry cabin crew are considered important assets for success [1]  although cabin crew are important frontline employees in the aviation industry they often encounter hassles in their work due to the pressure of operating safety duties and providing outstanding service at the same time [2]  to meet the standards of proficiency a variety of qualifications and competencies are required such as a sociable personality positive attitude empathy and decisionmaking skills in addition the cabin crew must constantly make efforts to keep customer satisfaction at a high level which includes resolving complaints</th>\n",
              "      <td>45e18b23376001b3ae2b4773dbcff9e28e35c160</td>\n",
              "      <td>MBTI Personality Types of Korean Cabin Crew i...</td>\n",
              "      <td>NaN</td>\n",
              "      <td>Not provided.</td>\n",
              "    </tr>\n",
              "    <tr>\n",
              "      <th>meanwhile the aviation industry in the middle east has expanded rapidly over the past decade establishing itself as the fastestgrowing winning numerous international awards as multicultural companies they recruit cabin crew from more than 100 different countries regardless of nationality race religion or gender upon employment the cabin crew are relocated to the middle east where they experience a completely different culture from their homeland for this reason airlines look for applicants who are openminded to other cultures and have the ability to adapt to new environments without difficulty nevertheless cabin crew in middle eastern airlines have shown higher rates of resignation than other domestic airlines recent research has reported that the main causes of high turnover rates for foreign cabin crew are first acculturation stress including culture shock and homesickness and second job stress caused by emotional exhaustion jet lag shift work etc [3] [4] [5] [6] [7]</th>\n",
              "      <td>45e18b23376001b3ae2b4773dbcff9e28e35c160</td>\n",
              "      <td>MBTI Personality Types of Korean Cabin Crew i...</td>\n",
              "      <td>NaN</td>\n",
              "      <td>Not provided.</td>\n",
              "    </tr>\n",
              "    <tr>\n",
              "      <th>in this study we focused on personality as the crucial factor influencing cabin crew members competency such as crosscultural adjustment competency occupational competency and coping competency according to the previous studies there is a particularly strong correlation between personality and crosscultural adjustment [8] [9] [10] [11] [12]  it has been even suggested that personality is one of the more important factors to help for effective adjustment than professional work skill which can be learned through special training [13]  furthermore it has been proven by earlier studies that personality is an important factor to predict individuals job performance or workrelated competency [14] [15] [16]</th>\n",
              "      <td>45e18b23376001b3ae2b4773dbcff9e28e35c160</td>\n",
              "      <td>MBTI Personality Types of Korean Cabin Crew i...</td>\n",
              "      <td>NaN</td>\n",
              "      <td>Not provided.</td>\n",
              "    </tr>\n",
              "  </tbody>\n",
              "</table>\n",
              "</div>"
            ],
            "text/plain": [
              "                                                                                    paper_id  ... abstract_summary\n",
              "prior to covid19 travelling by air had never be...  45e42369763fcdbbed559074d107f42824c18dd8  ...    Not provided.\n",
              "the emergence of covid19 and its associated tra...  45e42369763fcdbbed559074d107f42824c18dd8  ...    Not provided.\n",
              "in todays competitive market environment in the...  45e18b23376001b3ae2b4773dbcff9e28e35c160  ...    Not provided.\n",
              "meanwhile the aviation industry in the middle e...  45e18b23376001b3ae2b4773dbcff9e28e35c160  ...    Not provided.\n",
              "in this study we focused on personality as the ...  45e18b23376001b3ae2b4773dbcff9e28e35c160  ...    Not provided.\n",
              "\n",
              "[5 rows x 4 columns]"
            ]
          },
          "metadata": {},
          "execution_count": 24
        }
      ]
    },
    {
      "cell_type": "markdown",
      "metadata": {
        "id": "sFVjsMb8xPkD"
      },
      "source": [
        "## Preparing Data for Embedding"
      ]
    },
    {
      "cell_type": "code",
      "metadata": {
        "id": "71E8Y5XJpZ2S"
      },
      "source": [
        "import pandas as pd\n",
        "from tqdm import tqdm\n",
        "\n",
        "df_sentences = pd.read_csv(\"/content/drive/My Drive/Python/covid_sentences.csv\")\n",
        "df_sentences = df_sentences.set_index(\"Unnamed: 0\")"
      ],
      "execution_count": null,
      "outputs": []
    },
    {
      "cell_type": "code",
      "metadata": {
        "id": "brsFIaJ2y6RI",
        "colab": {
          "base_uri": "https://localhost:8080/",
          "height": 827
        },
        "outputId": "9c67412b-127f-48a9-cc3b-410c722e583f"
      },
      "source": [
        "df_sentences.head()"
      ],
      "execution_count": null,
      "outputs": [
        {
          "output_type": "execute_result",
          "data": {
            "text/html": [
              "<div>\n",
              "<style scoped>\n",
              "    .dataframe tbody tr th:only-of-type {\n",
              "        vertical-align: middle;\n",
              "    }\n",
              "\n",
              "    .dataframe tbody tr th {\n",
              "        vertical-align: top;\n",
              "    }\n",
              "\n",
              "    .dataframe thead th {\n",
              "        text-align: right;\n",
              "    }\n",
              "</style>\n",
              "<table border=\"1\" class=\"dataframe\">\n",
              "  <thead>\n",
              "    <tr style=\"text-align: right;\">\n",
              "      <th></th>\n",
              "      <th>paper_id</th>\n",
              "    </tr>\n",
              "    <tr>\n",
              "      <th>Unnamed: 0</th>\n",
              "      <th></th>\n",
              "    </tr>\n",
              "  </thead>\n",
              "  <tbody>\n",
              "    <tr>\n",
              "      <th>prior to covid19 travelling by air had never been easier or cheaper 12 more than 45 5 billion people travelled by air worldwide in 2019 3 the accessibility safety and efficiency of 6 global air travel has however brought challenges for the prevention and control of infectious 7 diseases 45 longhaul travel allows passengers to move worldwide within periods of time 8 shorter than the incubation of many infectious diseases 6 air travel has also fuelled the global 9 spread of antimicrobial resistance amr with over 20 of travellers returning from amr 10 endemic areas carrying resistance 7 sarscov2 spread worldwide and was declared a 11 global pandemic 8 in less than 3 months driven principally by the movement of infected 12 individuals by air [9] [10] [11] [12] 13</th>\n",
              "      <td>45e42369763fcdbbed559074d107f42824c18dd8</td>\n",
              "    </tr>\n",
              "    <tr>\n",
              "      <th>the emergence of covid19 and its associated travel bans have reduced international respondents were asked how concerned they were about contracting an infection while 94 travelling by air more than half 61 n125 reported being moderately 215 n44 or 95 extremely concerned 395 n81 of those reporting being extremely concerned more 96 than half 556 n45 were over 50 years old and only 119 n9 were under 30 years of 97 age genderwise the majority 84 n68 of extremely concerned respondents were 98 females few respondents 98 n20 reported having no concerns as illustrated in figure   99 1 purchase the empty seat this was a particular concern given that some airlines indicated the results from this study suggest that these kind of programs make passengers feel safer to</th>\n",
              "      <td>45e42369763fcdbbed559074d107f42824c18dd8</td>\n",
              "    </tr>\n",
              "    <tr>\n",
              "      <th>in todays competitive market environment in the aviation industry cabin crew are considered important assets for success [1]  although cabin crew are important frontline employees in the aviation industry they often encounter hassles in their work due to the pressure of operating safety duties and providing outstanding service at the same time [2]  to meet the standards of proficiency a variety of qualifications and competencies are required such as a sociable personality positive attitude empathy and decisionmaking skills in addition the cabin crew must constantly make efforts to keep customer satisfaction at a high level which includes resolving complaints</th>\n",
              "      <td>45e18b23376001b3ae2b4773dbcff9e28e35c160</td>\n",
              "    </tr>\n",
              "    <tr>\n",
              "      <th>meanwhile the aviation industry in the middle east has expanded rapidly over the past decade establishing itself as the fastestgrowing winning numerous international awards as multicultural companies they recruit cabin crew from more than 100 different countries regardless of nationality race religion or gender upon employment the cabin crew are relocated to the middle east where they experience a completely different culture from their homeland for this reason airlines look for applicants who are openminded to other cultures and have the ability to adapt to new environments without difficulty nevertheless cabin crew in middle eastern airlines have shown higher rates of resignation than other domestic airlines recent research has reported that the main causes of high turnover rates for foreign cabin crew are first acculturation stress including culture shock and homesickness and second job stress caused by emotional exhaustion jet lag shift work etc [3] [4] [5] [6] [7]</th>\n",
              "      <td>45e18b23376001b3ae2b4773dbcff9e28e35c160</td>\n",
              "    </tr>\n",
              "    <tr>\n",
              "      <th>in this study we focused on personality as the crucial factor influencing cabin crew members competency such as crosscultural adjustment competency occupational competency and coping competency according to the previous studies there is a particularly strong correlation between personality and crosscultural adjustment [8] [9] [10] [11] [12]  it has been even suggested that personality is one of the more important factors to help for effective adjustment than professional work skill which can be learned through special training [13]  furthermore it has been proven by earlier studies that personality is an important factor to predict individuals job performance or workrelated competency [14] [15] [16]</th>\n",
              "      <td>45e18b23376001b3ae2b4773dbcff9e28e35c160</td>\n",
              "    </tr>\n",
              "  </tbody>\n",
              "</table>\n",
              "</div>"
            ],
            "text/plain": [
              "                                                                                    paper_id\n",
              "Unnamed: 0                                                                                  \n",
              "prior to covid19 travelling by air had never be...  45e42369763fcdbbed559074d107f42824c18dd8\n",
              "the emergence of covid19 and its associated tra...  45e42369763fcdbbed559074d107f42824c18dd8\n",
              "in todays competitive market environment in the...  45e18b23376001b3ae2b4773dbcff9e28e35c160\n",
              "meanwhile the aviation industry in the middle e...  45e18b23376001b3ae2b4773dbcff9e28e35c160\n",
              "in this study we focused on personality as the ...  45e18b23376001b3ae2b4773dbcff9e28e35c160"
            ]
          },
          "metadata": {},
          "execution_count": 22
        }
      ]
    },
    {
      "cell_type": "code",
      "metadata": {
        "id": "03RFubi10GC8",
        "colab": {
          "base_uri": "https://localhost:8080/",
          "height": 1000
        },
        "outputId": "9f99b257-e092-4b3d-cee5-1a5ff219d681"
      },
      "source": [
        "import pandas as pd\n",
        "df = pd.read_csv(\"/content/drive/My Drive/Python/covid_sentences_Full.csv\", index_col=0)\n",
        "df.head()"
      ],
      "execution_count": null,
      "outputs": [
        {
          "output_type": "execute_result",
          "data": {
            "text/html": [
              "<div>\n",
              "<style scoped>\n",
              "    .dataframe tbody tr th:only-of-type {\n",
              "        vertical-align: middle;\n",
              "    }\n",
              "\n",
              "    .dataframe tbody tr th {\n",
              "        vertical-align: top;\n",
              "    }\n",
              "\n",
              "    .dataframe thead th {\n",
              "        text-align: right;\n",
              "    }\n",
              "</style>\n",
              "<table border=\"1\" class=\"dataframe\">\n",
              "  <thead>\n",
              "    <tr style=\"text-align: right;\">\n",
              "      <th></th>\n",
              "      <th>paper_id</th>\n",
              "      <th>title</th>\n",
              "      <th>abstract</th>\n",
              "      <th>abstract_summary</th>\n",
              "    </tr>\n",
              "  </thead>\n",
              "  <tbody>\n",
              "    <tr>\n",
              "      <th>prior to covid19 travelling by air had never been easier or cheaper 12 more than 45 5 billion people travelled by air worldwide in 2019 3 the accessibility safety and efficiency of 6 global air travel has however brought challenges for the prevention and control of infectious 7 diseases 45 longhaul travel allows passengers to move worldwide within periods of time 8 shorter than the incubation of many infectious diseases 6 air travel has also fuelled the global 9 spread of antimicrobial resistance amr with over 20 of travellers returning from amr 10 endemic areas carrying resistance 7 sarscov2 spread worldwide and was declared a 11 global pandemic 8 in less than 3 months driven principally by the movement of infected 12 individuals by air [9] [10] [11] [12] 13</th>\n",
              "      <td>45e42369763fcdbbed559074d107f42824c18dd8</td>\n",
              "      <td>Air travel in a COVID-19 world: Commercial&lt;br...</td>\n",
              "      <td>NaN</td>\n",
              "      <td>Not provided.</td>\n",
              "    </tr>\n",
              "    <tr>\n",
              "      <th>the emergence of covid19 and its associated travel bans have reduced international respondents were asked how concerned they were about contracting an infection while 94 travelling by air more than half 61 n125 reported being moderately 215 n44 or 95 extremely concerned 395 n81 of those reporting being extremely concerned more 96 than half 556 n45 were over 50 years old and only 119 n9 were under 30 years of 97 age genderwise the majority 84 n68 of extremely concerned respondents were 98 females few respondents 98 n20 reported having no concerns as illustrated in figure   99 1 purchase the empty seat this was a particular concern given that some airlines indicated the results from this study suggest that these kind of programs make passengers feel safer to</th>\n",
              "      <td>45e42369763fcdbbed559074d107f42824c18dd8</td>\n",
              "      <td>Air travel in a COVID-19 world: Commercial&lt;br...</td>\n",
              "      <td>NaN</td>\n",
              "      <td>Not provided.</td>\n",
              "    </tr>\n",
              "    <tr>\n",
              "      <th>in todays competitive market environment in the aviation industry cabin crew are considered important assets for success [1]  although cabin crew are important frontline employees in the aviation industry they often encounter hassles in their work due to the pressure of operating safety duties and providing outstanding service at the same time [2]  to meet the standards of proficiency a variety of qualifications and competencies are required such as a sociable personality positive attitude empathy and decisionmaking skills in addition the cabin crew must constantly make efforts to keep customer satisfaction at a high level which includes resolving complaints</th>\n",
              "      <td>45e18b23376001b3ae2b4773dbcff9e28e35c160</td>\n",
              "      <td>MBTI Personality Types of Korean Cabin Crew i...</td>\n",
              "      <td>NaN</td>\n",
              "      <td>Not provided.</td>\n",
              "    </tr>\n",
              "    <tr>\n",
              "      <th>meanwhile the aviation industry in the middle east has expanded rapidly over the past decade establishing itself as the fastestgrowing winning numerous international awards as multicultural companies they recruit cabin crew from more than 100 different countries regardless of nationality race religion or gender upon employment the cabin crew are relocated to the middle east where they experience a completely different culture from their homeland for this reason airlines look for applicants who are openminded to other cultures and have the ability to adapt to new environments without difficulty nevertheless cabin crew in middle eastern airlines have shown higher rates of resignation than other domestic airlines recent research has reported that the main causes of high turnover rates for foreign cabin crew are first acculturation stress including culture shock and homesickness and second job stress caused by emotional exhaustion jet lag shift work etc [3] [4] [5] [6] [7]</th>\n",
              "      <td>45e18b23376001b3ae2b4773dbcff9e28e35c160</td>\n",
              "      <td>MBTI Personality Types of Korean Cabin Crew i...</td>\n",
              "      <td>NaN</td>\n",
              "      <td>Not provided.</td>\n",
              "    </tr>\n",
              "    <tr>\n",
              "      <th>in this study we focused on personality as the crucial factor influencing cabin crew members competency such as crosscultural adjustment competency occupational competency and coping competency according to the previous studies there is a particularly strong correlation between personality and crosscultural adjustment [8] [9] [10] [11] [12]  it has been even suggested that personality is one of the more important factors to help for effective adjustment than professional work skill which can be learned through special training [13]  furthermore it has been proven by earlier studies that personality is an important factor to predict individuals job performance or workrelated competency [14] [15] [16]</th>\n",
              "      <td>45e18b23376001b3ae2b4773dbcff9e28e35c160</td>\n",
              "      <td>MBTI Personality Types of Korean Cabin Crew i...</td>\n",
              "      <td>NaN</td>\n",
              "      <td>Not provided.</td>\n",
              "    </tr>\n",
              "  </tbody>\n",
              "</table>\n",
              "</div>"
            ],
            "text/plain": [
              "                                                                                    paper_id  ... abstract_summary\n",
              "prior to covid19 travelling by air had never be...  45e42369763fcdbbed559074d107f42824c18dd8  ...    Not provided.\n",
              "the emergence of covid19 and its associated tra...  45e42369763fcdbbed559074d107f42824c18dd8  ...    Not provided.\n",
              "in todays competitive market environment in the...  45e18b23376001b3ae2b4773dbcff9e28e35c160  ...    Not provided.\n",
              "meanwhile the aviation industry in the middle e...  45e18b23376001b3ae2b4773dbcff9e28e35c160  ...    Not provided.\n",
              "in this study we focused on personality as the ...  45e18b23376001b3ae2b4773dbcff9e28e35c160  ...    Not provided.\n",
              "\n",
              "[5 rows x 4 columns]"
            ]
          },
          "metadata": {},
          "execution_count": 26
        }
      ]
    },
    {
      "cell_type": "markdown",
      "metadata": {
        "id": "Ngjv1YT8Njh5"
      },
      "source": [
        "### Prepare input txt file"
      ]
    },
    {
      "cell_type": "code",
      "metadata": {
        "id": "ZsvaWGEdonX5",
        "colab": {
          "base_uri": "https://localhost:8080/"
        },
        "outputId": "40694d26-e32e-4399-f98d-1e63dbb72d70"
      },
      "source": [
        "df_sentences = df_sentences[\"paper_id\"].to_dict()\n",
        "df_sentences_list = list(df_sentences.keys())\n",
        "df_sentences_list = [str(d) for d in tqdm(df_sentences_list)]\n",
        "print(len(df_sentences_list))\n",
        "df_sentences_list[:5]"
      ],
      "execution_count": null,
      "outputs": [
        {
          "output_type": "stream",
          "name": "stderr",
          "text": [
            "100%|██████████| 22666/22666 [00:00<00:00, 1812754.45it/s]"
          ]
        },
        {
          "output_type": "stream",
          "name": "stdout",
          "text": [
            "22666\n"
          ]
        },
        {
          "output_type": "stream",
          "name": "stderr",
          "text": [
            "\n"
          ]
        },
        {
          "output_type": "execute_result",
          "data": {
            "text/plain": [
              "['prior to covid19 travelling by air had never been easier or cheaper 12 more than 45 5 billion people travelled by air worldwide in 2019 3 the accessibility safety and efficiency of 6 global air travel has however brought challenges for the prevention and control of infectious 7 diseases 45 longhaul travel allows passengers to move worldwide within periods of time 8 shorter than the incubation of many infectious diseases 6 air travel has also fuelled the global 9 spread of antimicrobial resistance amr with over 20 of travellers returning from amr 10 endemic areas carrying resistance 7 sarscov2 spread worldwide and was declared a 11 global pandemic 8 in less than 3 months driven principally by the movement of infected 12 individuals by air [9] [10] [11] [12] 13',\n",
              " 'the emergence of covid19 and its associated travel bans have reduced international respondents were asked how concerned they were about contracting an infection while 94 travelling by air more than half 61 n125 reported being moderately 215 n44 or 95 extremely concerned 395 n81 of those reporting being extremely concerned more 96 than half 556 n45 were over 50 years old and only 119 n9 were under 30 years of 97 age genderwise the majority 84 n68 of extremely concerned respondents were 98 females few respondents 98 n20 reported having no concerns as illustrated in figure   99 1 purchase the empty seat this was a particular concern given that some airlines indicated the results from this study suggest that these kind of programs make passengers feel safer to ',\n",
              " 'in todays competitive market environment in the aviation industry cabin crew are considered important assets for success [1]  although cabin crew are important frontline employees in the aviation industry they often encounter hassles in their work due to the pressure of operating safety duties and providing outstanding service at the same time [2]  to meet the standards of proficiency a variety of qualifications and competencies are required such as a sociable personality positive attitude empathy and decisionmaking skills in addition the cabin crew must constantly make efforts to keep customer satisfaction at a high level which includes resolving complaints',\n",
              " 'meanwhile the aviation industry in the middle east has expanded rapidly over the past decade establishing itself as the fastestgrowing winning numerous international awards as multicultural companies they recruit cabin crew from more than 100 different countries regardless of nationality race religion or gender upon employment the cabin crew are relocated to the middle east where they experience a completely different culture from their homeland for this reason airlines look for applicants who are openminded to other cultures and have the ability to adapt to new environments without difficulty nevertheless cabin crew in middle eastern airlines have shown higher rates of resignation than other domestic airlines recent research has reported that the main causes of high turnover rates for foreign cabin crew are first acculturation stress including culture shock and homesickness and second job stress caused by emotional exhaustion jet lag shift work etc [3] [4] [5] [6] [7] ',\n",
              " 'in this study we focused on personality as the crucial factor influencing cabin crew members competency such as crosscultural adjustment competency occupational competency and coping competency according to the previous studies there is a particularly strong correlation between personality and crosscultural adjustment [8] [9] [10] [11] [12]  it has been even suggested that personality is one of the more important factors to help for effective adjustment than professional work skill which can be learned through special training [13]  furthermore it has been proven by earlier studies that personality is an important factor to predict individuals job performance or workrelated competency [14] [15] [16] ']"
            ]
          },
          "metadata": {},
          "execution_count": 27
        }
      ]
    },
    {
      "cell_type": "code",
      "metadata": {
        "id": "wl_ajG7zOtJP"
      },
      "source": [
        "file_content = \"\\n\".join(df_sentences_list)\n",
        "with open(\"input_text.txt\",\"w\") as f:\n",
        "  f.write(file_content)\n",
        "#with open(\"input_text.txt\",\"w\") as f:\n",
        "#  f.write(file_content[:-9000])\n",
        "#with open(\"test_text.txt\",\"w\") as f:\n",
        "#  f.write(file_content[-9000:])"
      ],
      "execution_count": null,
      "outputs": []
    },
    {
      "cell_type": "code",
      "metadata": {
        "id": "13OAXzX5_ody",
        "colab": {
          "base_uri": "https://localhost:8080/"
        },
        "outputId": "b5c0173b-646f-43c6-9d18-615c58650b05"
      },
      "source": [
        "print(len(file_content[:-9000]))\n",
        "print(len(file_content[-9000:]))"
      ],
      "execution_count": null,
      "outputs": [
        {
          "output_type": "stream",
          "name": "stdout",
          "text": [
            "17772476\n",
            "9000\n"
          ]
        }
      ]
    },
    {
      "cell_type": "markdown",
      "metadata": {
        "id": "IxTrL0saR0J1"
      },
      "source": [
        "## BERT"
      ]
    },
    {
      "cell_type": "code",
      "metadata": {
        "id": "tK-r8fRShOzR"
      },
      "source": [
        "!cat input_text.txt"
      ],
      "execution_count": null,
      "outputs": []
    },
    {
      "cell_type": "code",
      "metadata": {
        "id": "0bgKzbMVhYOy"
      },
      "source": [
        "!cat /content/transformers/examples/legacy/run_language_modeling.py"
      ],
      "execution_count": null,
      "outputs": []
    },
    {
      "cell_type": "code",
      "metadata": {
        "id": "c7Gw6TNeiC1f"
      },
      "source": [
        "!pip install -U transformers==3.5.1"
      ],
      "execution_count": null,
      "outputs": []
    },
    {
      "cell_type": "code",
      "metadata": {
        "colab": {
          "base_uri": "https://localhost:8080/"
        },
        "id": "3phfgS1JiUx-",
        "outputId": "235e6516-c23c-4c78-e8fc-75978c64479f"
      },
      "source": [
        "!pip install -q torch==1.4.0 -f https://download.pytorch.org/whl/cu101/torch_stable.html"
      ],
      "execution_count": null,
      "outputs": [
        {
          "output_type": "stream",
          "name": "stdout",
          "text": [
            "\u001b[31mERROR: pip's dependency resolver does not currently take into account all the packages that are installed. This behaviour is the source of the following dependency conflicts.\n",
            "torchvision 0.10.0+cu102 requires torch==1.9.0, but you have torch 1.4.0 which is incompatible.\n",
            "torchtext 0.10.0 requires torch==1.9.0, but you have torch 1.4.0 which is incompatible.\n",
            "sentence-transformers 2.0.0 requires torch>=1.6.0, but you have torch 1.4.0 which is incompatible.\u001b[0m\n"
          ]
        }
      ]
    },
    {
      "cell_type": "code",
      "metadata": {
        "id": "C2DmPjk2_DUS",
        "colab": {
          "base_uri": "https://localhost:8080/"
        },
        "outputId": "181a78b1-2953-4f24-bf68-1633eaa77b4e"
      },
      "source": [
        "#export TRAIN_FILE=/path/to/dataset/wiki.train.raw\n",
        "#export TEST_FILE=/path/to/dataset/wiki.test.raw\n",
        "#https://blog.einstein.ai/the-wikitext-long-term-dependency-language-modeling-dataset/\n",
        "#https://huggingface.co/transformers/v2.1.1/examples.html#roberta-bert-and-masked-language-modeling\n",
        "!python \"/content/transformers/examples/legacy/run_language_modeling.py\" \\\n",
        "    --output_dir=\"/content/drive/My Drive/Python/BERTfine\" \\\n",
        "    --overwrite_output_dir \\\n",
        "    --model_type=bert \\\n",
        "    --model_name_or_path=google/bert_uncased_L-2_H-128_A-2 \\\n",
        "    --do_train \\\n",
        "    --block_size=512 \\\n",
        "    --train_data_file=\"/content/input_text.txt\" \\\n",
        "    --mlm"
      ],
      "execution_count": null,
      "outputs": [
        {
          "output_type": "stream",
          "name": "stdout",
          "text": [
            "09/30/2021 12:31:08 - WARNING - __main__ - Process rank: -1, device: cuda:0, n_gpu: 1, distributed training: False, 16-bits training: False\n",
            "09/30/2021 12:31:08 - INFO - __main__ - Training/evaluation parameters TrainingArguments(\n",
            "_n_gpu=1,\n",
            "adafactor=False,\n",
            "adam_beta1=0.9,\n",
            "adam_beta2=0.999,\n",
            "adam_epsilon=1e-08,\n",
            "dataloader_drop_last=False,\n",
            "dataloader_num_workers=0,\n",
            "dataloader_pin_memory=True,\n",
            "ddp_find_unused_parameters=None,\n",
            "debug=[],\n",
            "deepspeed=None,\n",
            "disable_tqdm=False,\n",
            "do_eval=False,\n",
            "do_predict=False,\n",
            "do_train=True,\n",
            "eval_accumulation_steps=None,\n",
            "eval_steps=None,\n",
            "evaluation_strategy=IntervalStrategy.NO,\n",
            "fp16=False,\n",
            "fp16_backend=auto,\n",
            "fp16_full_eval=False,\n",
            "fp16_opt_level=O1,\n",
            "gradient_accumulation_steps=1,\n",
            "gradient_checkpointing=False,\n",
            "greater_is_better=None,\n",
            "group_by_length=False,\n",
            "hub_model_id=None,\n",
            "hub_strategy=HubStrategy.EVERY_SAVE,\n",
            "hub_token=<HUB_TOKEN>,\n",
            "ignore_data_skip=False,\n",
            "label_names=None,\n",
            "label_smoothing_factor=0.0,\n",
            "learning_rate=5e-05,\n",
            "length_column_name=length,\n",
            "load_best_model_at_end=False,\n",
            "local_rank=-1,\n",
            "log_level=-1,\n",
            "log_level_replica=-1,\n",
            "log_on_each_node=True,\n",
            "logging_dir=/content/drive/My Drive/Python/BERTfine/runs/Sep30_12-31-08_f0c2d31b4490,\n",
            "logging_first_step=False,\n",
            "logging_nan_inf_filter=True,\n",
            "logging_steps=500,\n",
            "logging_strategy=IntervalStrategy.STEPS,\n",
            "lr_scheduler_type=SchedulerType.LINEAR,\n",
            "max_grad_norm=1.0,\n",
            "max_steps=-1,\n",
            "metric_for_best_model=None,\n",
            "mp_parameters=,\n",
            "no_cuda=False,\n",
            "num_train_epochs=3.0,\n",
            "output_dir=/content/drive/My Drive/Python/BERTfine,\n",
            "overwrite_output_dir=True,\n",
            "past_index=-1,\n",
            "per_device_eval_batch_size=8,\n",
            "per_device_train_batch_size=8,\n",
            "prediction_loss_only=False,\n",
            "push_to_hub=False,\n",
            "push_to_hub_model_id=None,\n",
            "push_to_hub_organization=None,\n",
            "push_to_hub_token=<PUSH_TO_HUB_TOKEN>,\n",
            "remove_unused_columns=True,\n",
            "report_to=['tensorboard'],\n",
            "resume_from_checkpoint=None,\n",
            "run_name=/content/drive/My Drive/Python/BERTfine,\n",
            "save_on_each_node=False,\n",
            "save_steps=500,\n",
            "save_strategy=IntervalStrategy.STEPS,\n",
            "save_total_limit=None,\n",
            "seed=42,\n",
            "sharded_ddp=[],\n",
            "skip_memory_metrics=True,\n",
            "tpu_metrics_debug=False,\n",
            "tpu_num_cores=None,\n",
            "use_legacy_prediction_loop=False,\n",
            "warmup_ratio=0.0,\n",
            "warmup_steps=0,\n",
            "weight_decay=0.0,\n",
            "xpu_backend=None,\n",
            ")\n",
            "[INFO|configuration_utils.py:583] 2021-09-30 12:31:08,650 >> loading configuration file https://huggingface.co/google/bert_uncased_L-2_H-128_A-2/resolve/main/config.json from cache at /root/.cache/huggingface/transformers/267e014e0691a01eec80d89bb2425a3d308d8cecfb1d6e87be0dc333713851b6.f7c0b2bc8a921bf36b061a6a20c9b520a23fb3f3cd8d356d1501424870e750a8\n",
            "[INFO|configuration_utils.py:620] 2021-09-30 12:31:08,651 >> Model config BertConfig {\n",
            "  \"attention_probs_dropout_prob\": 0.1,\n",
            "  \"classifier_dropout\": null,\n",
            "  \"hidden_act\": \"gelu\",\n",
            "  \"hidden_dropout_prob\": 0.1,\n",
            "  \"hidden_size\": 128,\n",
            "  \"initializer_range\": 0.02,\n",
            "  \"intermediate_size\": 512,\n",
            "  \"layer_norm_eps\": 1e-12,\n",
            "  \"max_position_embeddings\": 512,\n",
            "  \"model_type\": \"bert\",\n",
            "  \"num_attention_heads\": 2,\n",
            "  \"num_hidden_layers\": 2,\n",
            "  \"pad_token_id\": 0,\n",
            "  \"position_embedding_type\": \"absolute\",\n",
            "  \"transformers_version\": \"4.11.1\",\n",
            "  \"type_vocab_size\": 2,\n",
            "  \"use_cache\": true,\n",
            "  \"vocab_size\": 30522\n",
            "}\n",
            "\n",
            "[INFO|tokenization_auto.py:334] 2021-09-30 12:31:08,774 >> Could not locate the tokenizer configuration file, will try to use the model config instead.\n",
            "[INFO|configuration_utils.py:583] 2021-09-30 12:31:08,906 >> loading configuration file https://huggingface.co/google/bert_uncased_L-2_H-128_A-2/resolve/main/config.json from cache at /root/.cache/huggingface/transformers/267e014e0691a01eec80d89bb2425a3d308d8cecfb1d6e87be0dc333713851b6.f7c0b2bc8a921bf36b061a6a20c9b520a23fb3f3cd8d356d1501424870e750a8\n",
            "[INFO|configuration_utils.py:620] 2021-09-30 12:31:08,906 >> Model config BertConfig {\n",
            "  \"attention_probs_dropout_prob\": 0.1,\n",
            "  \"classifier_dropout\": null,\n",
            "  \"hidden_act\": \"gelu\",\n",
            "  \"hidden_dropout_prob\": 0.1,\n",
            "  \"hidden_size\": 128,\n",
            "  \"initializer_range\": 0.02,\n",
            "  \"intermediate_size\": 512,\n",
            "  \"layer_norm_eps\": 1e-12,\n",
            "  \"max_position_embeddings\": 512,\n",
            "  \"model_type\": \"bert\",\n",
            "  \"num_attention_heads\": 2,\n",
            "  \"num_hidden_layers\": 2,\n",
            "  \"pad_token_id\": 0,\n",
            "  \"position_embedding_type\": \"absolute\",\n",
            "  \"transformers_version\": \"4.11.1\",\n",
            "  \"type_vocab_size\": 2,\n",
            "  \"use_cache\": true,\n",
            "  \"vocab_size\": 30522\n",
            "}\n",
            "\n",
            "[INFO|tokenization_utils_base.py:1741] 2021-09-30 12:31:09,680 >> loading file https://huggingface.co/google/bert_uncased_L-2_H-128_A-2/resolve/main/vocab.txt from cache at /root/.cache/huggingface/transformers/ae380908d995c42fb737d4224ce3c5ff2fa4c9ea645510f07ed1b65d2b7a61ba.d789d64ebfe299b0e416afc4a169632f903f693095b4629a7ea271d5a0cf2c99\n",
            "[INFO|tokenization_utils_base.py:1741] 2021-09-30 12:31:09,680 >> loading file https://huggingface.co/google/bert_uncased_L-2_H-128_A-2/resolve/main/tokenizer.json from cache at None\n",
            "[INFO|tokenization_utils_base.py:1741] 2021-09-30 12:31:09,680 >> loading file https://huggingface.co/google/bert_uncased_L-2_H-128_A-2/resolve/main/added_tokens.json from cache at None\n",
            "[INFO|tokenization_utils_base.py:1741] 2021-09-30 12:31:09,680 >> loading file https://huggingface.co/google/bert_uncased_L-2_H-128_A-2/resolve/main/special_tokens_map.json from cache at None\n",
            "[INFO|tokenization_utils_base.py:1741] 2021-09-30 12:31:09,680 >> loading file https://huggingface.co/google/bert_uncased_L-2_H-128_A-2/resolve/main/tokenizer_config.json from cache at None\n",
            "[INFO|configuration_utils.py:583] 2021-09-30 12:31:09,807 >> loading configuration file https://huggingface.co/google/bert_uncased_L-2_H-128_A-2/resolve/main/config.json from cache at /root/.cache/huggingface/transformers/267e014e0691a01eec80d89bb2425a3d308d8cecfb1d6e87be0dc333713851b6.f7c0b2bc8a921bf36b061a6a20c9b520a23fb3f3cd8d356d1501424870e750a8\n",
            "[INFO|configuration_utils.py:620] 2021-09-30 12:31:09,808 >> Model config BertConfig {\n",
            "  \"attention_probs_dropout_prob\": 0.1,\n",
            "  \"classifier_dropout\": null,\n",
            "  \"hidden_act\": \"gelu\",\n",
            "  \"hidden_dropout_prob\": 0.1,\n",
            "  \"hidden_size\": 128,\n",
            "  \"initializer_range\": 0.02,\n",
            "  \"intermediate_size\": 512,\n",
            "  \"layer_norm_eps\": 1e-12,\n",
            "  \"max_position_embeddings\": 512,\n",
            "  \"model_type\": \"bert\",\n",
            "  \"num_attention_heads\": 2,\n",
            "  \"num_hidden_layers\": 2,\n",
            "  \"pad_token_id\": 0,\n",
            "  \"position_embedding_type\": \"absolute\",\n",
            "  \"transformers_version\": \"4.11.1\",\n",
            "  \"type_vocab_size\": 2,\n",
            "  \"use_cache\": true,\n",
            "  \"vocab_size\": 30522\n",
            "}\n",
            "\n",
            "[INFO|configuration_utils.py:583] 2021-09-30 12:31:09,967 >> loading configuration file https://huggingface.co/google/bert_uncased_L-2_H-128_A-2/resolve/main/config.json from cache at /root/.cache/huggingface/transformers/267e014e0691a01eec80d89bb2425a3d308d8cecfb1d6e87be0dc333713851b6.f7c0b2bc8a921bf36b061a6a20c9b520a23fb3f3cd8d356d1501424870e750a8\n",
            "[INFO|configuration_utils.py:620] 2021-09-30 12:31:09,968 >> Model config BertConfig {\n",
            "  \"attention_probs_dropout_prob\": 0.1,\n",
            "  \"classifier_dropout\": null,\n",
            "  \"hidden_act\": \"gelu\",\n",
            "  \"hidden_dropout_prob\": 0.1,\n",
            "  \"hidden_size\": 128,\n",
            "  \"initializer_range\": 0.02,\n",
            "  \"intermediate_size\": 512,\n",
            "  \"layer_norm_eps\": 1e-12,\n",
            "  \"max_position_embeddings\": 512,\n",
            "  \"model_type\": \"bert\",\n",
            "  \"num_attention_heads\": 2,\n",
            "  \"num_hidden_layers\": 2,\n",
            "  \"pad_token_id\": 0,\n",
            "  \"position_embedding_type\": \"absolute\",\n",
            "  \"transformers_version\": \"4.11.1\",\n",
            "  \"type_vocab_size\": 2,\n",
            "  \"use_cache\": true,\n",
            "  \"vocab_size\": 30522\n",
            "}\n",
            "\n",
            "/usr/local/lib/python3.7/dist-packages/transformers/models/auto/modeling_auto.py:664: FutureWarning: The class `AutoModelWithLMHead` is deprecated and will be removed in a future version. Please use `AutoModelForCausalLM` for causal language models, `AutoModelForMaskedLM` for masked language models and `AutoModelForSeq2SeqLM` for encoder-decoder models.\n",
            "  FutureWarning,\n",
            "[INFO|modeling_utils.py:1323] 2021-09-30 12:31:10,130 >> loading weights file https://huggingface.co/google/bert_uncased_L-2_H-128_A-2/resolve/main/pytorch_model.bin from cache at /root/.cache/huggingface/transformers/dda68f403046cbaa7f1314af6c12d9bada21763b4eb19736e67848fc06866e42.7403e6b557aa7a336c7fe70b39767fd8466a1ef0abefa50da785ab461983f35b\n",
            "[WARNING|modeling_utils.py:1580] 2021-09-30 12:31:10,782 >> Some weights of the model checkpoint at google/bert_uncased_L-2_H-128_A-2 were not used when initializing BertForMaskedLM: ['cls.seq_relationship.weight', 'cls.seq_relationship.bias']\n",
            "- This IS expected if you are initializing BertForMaskedLM from the checkpoint of a model trained on another task or with another architecture (e.g. initializing a BertForSequenceClassification model from a BertForPreTraining model).\n",
            "- This IS NOT expected if you are initializing BertForMaskedLM from the checkpoint of a model that you expect to be exactly identical (initializing a BertForSequenceClassification model from a BertForSequenceClassification model).\n",
            "[INFO|modeling_utils.py:1597] 2021-09-30 12:31:10,782 >> All the weights of BertForMaskedLM were initialized from the model checkpoint at google/bert_uncased_L-2_H-128_A-2.\n",
            "If your task is similar to the task the model of the checkpoint was trained on, you can already use BertForMaskedLM for predictions without further training.\n",
            "Traceback (most recent call last):\n",
            "  File \"/content/transformers/examples/legacy/run_language_modeling.py\", line 364, in <module>\n",
            "    main()\n",
            "  File \"/content/transformers/examples/legacy/run_language_modeling.py\", line 283, in main\n",
            "    data_args.block_size = min(data_args.block_size, tokenizer.max_len)\n",
            "AttributeError: 'BertTokenizerFast' object has no attribute 'max_len'\n"
          ]
        }
      ]
    },
    {
      "cell_type": "code",
      "metadata": {
        "id": "ItkrtXfhK673"
      },
      "source": [
        "# if you want more RAMs from google colab\n",
        "# fill your RAM using this simple loop\n",
        "a = []\n",
        "while(1):\n",
        "    a.append('1')"
      ],
      "execution_count": null,
      "outputs": []
    },
    {
      "cell_type": "code",
      "metadata": {
        "id": "uvy-I6KAorFK"
      },
      "source": [
        "!pip install transformers==3.0.2"
      ],
      "execution_count": null,
      "outputs": []
    },
    {
      "cell_type": "code",
      "metadata": {
        "id": "m_3mYxjxph98"
      },
      "source": [
        "!pip install cache-magic\n",
        "import cache_magic\n",
        "!ln -s /content/.cache/torch/sentence-transformer "
      ],
      "execution_count": null,
      "outputs": []
    },
    {
      "cell_type": "code",
      "metadata": {
        "id": "0CLX4mz9rjE7"
      },
      "source": [
        "!ls .cache/torch/sentence-transformer "
      ],
      "execution_count": null,
      "outputs": []
    },
    {
      "cell_type": "code",
      "metadata": {
        "id": "HihV7Yvjq7Pr"
      },
      "source": [
        "!pip install -U sentence-transformers"
      ],
      "execution_count": null,
      "outputs": []
    },
    {
      "cell_type": "code",
      "metadata": {
        "id": "4A3nnYy4R2GS",
        "colab": {
          "base_uri": "https://localhost:8080/"
        },
        "outputId": "e605f647-7cf0-4884-b665-8ec9905fefa4"
      },
      "source": [
        "#https://github.com/UKPLab/sentence-transformers/blob/master/examples/application_semantic_search.py\n",
        "from sentence_transformers import SentenceTransformer\n",
        "from sentence_transformers import models, losses\n",
        "from sentence_transformers import SentenceTransformer\n",
        "import scipy.spatial\n",
        "import pickle as pkl\n",
        "#word_embedding_model = models.BERT(\"/content/drive/My Drive/Python/BERTfine\")\n",
        "\n",
        "# Apply mean pooling to get one fixed sized sentence vector\n",
        "#pooling_model = models.Pooling(word_embedding_model.get_word_embedding_dimension(),\n",
        "#                                pooling_mode_mean_tokens=True,\n",
        "#                                pooling_mode_cls_token=False,\n",
        "#                                pooling_mode_max_tokens=False)\n",
        "\n",
        "#model = SentenceTransformer(modules=[word_embedding_model, pooling_model])\n",
        "model = SentenceTransformer(\"/content/drive/My Drive/Python/BERTfine\")"
      ],
      "execution_count": null,
      "outputs": [
        {
          "output_type": "stream",
          "name": "stderr",
          "text": [
            "WARNING:root:No sentence-transformers model found with name /content/drive/My Drive/Python/BERTfine. Creating a new one with MEAN pooling.\n",
            "Some weights of the model checkpoint at /content/drive/My Drive/Python/BERTfine were not used when initializing BertModel: ['cls.predictions.transform.LayerNorm.weight', 'cls.predictions.transform.LayerNorm.bias', 'cls.predictions.transform.dense.weight', 'cls.predictions.transform.dense.bias', 'cls.predictions.bias', 'cls.predictions.decoder.bias', 'cls.predictions.decoder.weight']\n",
            "- This IS expected if you are initializing BertModel from the checkpoint of a model trained on another task or with another architecture (e.g. initializing a BertForSequenceClassification model from a BertForPreTraining model).\n",
            "- This IS NOT expected if you are initializing BertModel from the checkpoint of a model that you expect to be exactly identical (initializing a BertForSequenceClassification model from a BertForSequenceClassification model).\n",
            "Some weights of BertModel were not initialized from the model checkpoint at /content/drive/My Drive/Python/BERTfine and are newly initialized: ['bert.pooler.dense.weight', 'bert.pooler.dense.bias']\n",
            "You should probably TRAIN this model on a down-stream task to be able to use it for predictions and inference.\n"
          ]
        }
      ]
    },
    {
      "cell_type": "code",
      "metadata": {
        "id": "phnOmGE5uPXo",
        "colab": {
          "base_uri": "https://localhost:8080/",
          "height": 104,
          "referenced_widgets": [
            "6054f5b22a9b47888789b732e483f87f",
            "19bd753e30f041369dfadf1200f777f9",
            "86b4a7d4b8144ef28894b5e9854f3e59",
            "7da3ed545e92417bb23b9585037bcbba",
            "a0f4dcf8259b4350a2789d14e54dac19",
            "4542779ff4f742d9b72e37b238c41d33",
            "4aeb20370ec948b0a0ad7c1960fad63c",
            "0e5c28af96a1474eb10c6f730577e162",
            "2d3123bbe20746179bf1f003381da0d3",
            "139e859f07ea4fe092cfe8467ee3bfd9",
            "1c05d4616dbf4d5bb94a879623797653"
          ]
        },
        "outputId": "054b6fff-3029-4ace-af9d-2b15f6f49009"
      },
      "source": [
        "# Corpus with example sentences\n",
        "corpus = df_sentences_list\n",
        "corpus_embeddings = model.encode(corpus,show_progress_bar=True)\n",
        "with open(\"/content/drive/My Drive/Python/corpus_finetuned_embeddings.pkl\" , \"wb\") as f:\n",
        "  pkl.dump(corpus_embeddings,f)"
      ],
      "execution_count": null,
      "outputs": [
        {
          "output_type": "display_data",
          "data": {
            "application/vnd.jupyter.widget-view+json": {
              "model_id": "6054f5b22a9b47888789b732e483f87f",
              "version_minor": 0,
              "version_major": 2
            },
            "text/plain": [
              "Batches:   0%|          | 0/709 [00:00<?, ?it/s]"
            ]
          },
          "metadata": {}
        },
        {
          "output_type": "stream",
          "name": "stderr",
          "text": [
            "/usr/local/lib/python3.7/dist-packages/transformers/tokenization_utils_base.py:2227: UserWarning: `max_length` is ignored when `padding`=`True`.\n",
            "  warnings.warn(\"`max_length` is ignored when `padding`=`True`.\")\n"
          ]
        }
      ]
    },
    {
      "cell_type": "code",
      "metadata": {
        "id": "h7vHfvmTzVUw",
        "colab": {
          "base_uri": "https://localhost:8080/"
        },
        "outputId": "181c843e-56b1-45d4-f6b4-3bf600c7f0ff"
      },
      "source": [
        "len(corpus_embeddings)"
      ],
      "execution_count": null,
      "outputs": [
        {
          "output_type": "execute_result",
          "data": {
            "text/plain": [
              "22666"
            ]
          },
          "metadata": {},
          "execution_count": 31
        }
      ]
    },
    {
      "cell_type": "code",
      "metadata": {
        "id": "mPUDqpSgSFx5",
        "colab": {
          "base_uri": "https://localhost:8080/",
          "height": 1000,
          "referenced_widgets": [
            "069a9dce24794161884e64ebe98be6de",
            "65265159695e4c26804c85b00639ba5b",
            "708074e36f644744b9d9cdfb3462b9ae",
            "4d70fec3535a4083b6c6cb7b490dc2e8",
            "cdb59cbf489e4b4081c304d91c5e4018",
            "7e0f6b90dd114f25a8faf9e1abe3c09c",
            "342ae881a67245138715fcdf4031f9e7",
            "4552fc5984ed4ea1b2f1b92e50adf416",
            "b3a3c8575c214ce4a1fe9bbf68934e5a",
            "dd01771c24fa4b0892c7756218998beb",
            "1f7f71069f1d4bf2bb65a99a28beb4d0"
          ]
        },
        "outputId": "09b56e0e-2d15-464c-b455-3c400fc77051"
      },
      "source": [
        "# Query sentences:\n",
        "queries = ['What has been published about medical care?',\n",
        "           'Knowledge of the frequency, manifestations, and course of extrapulmonary manifestations of COVID-19, including, but not limited to, possible cardiomyopathy and cardiac arrest',\n",
        "           'Why do I get a fever during covid?']\n",
        "query_embeddings = model.encode(queries,show_progress_bar=True)\n",
        "\n",
        "# Find the closest 5 sentences of the corpus for each query sentence based on cosine similarity\n",
        "closest_n = 5\n",
        "print(\"\\nTop 5 most similar sentences in corpus:\")\n",
        "for query, query_embedding in zip(queries, query_embeddings):\n",
        "    distances = scipy.spatial.distance.cdist([query_embedding], corpus_embeddings, \"cosine\")[0]\n",
        "\n",
        "    results = zip(range(len(distances)), distances)\n",
        "    results = sorted(results, key=lambda x: x[1])\n",
        "\n",
        "    print(\"\\n\\n=========================================================\")\n",
        "    print(\"==========================Query==============================\")\n",
        "    print(\"===\",query,\"=====\")\n",
        "    print(\"=========================================================\")\n",
        "\n",
        "\n",
        "    for idx, distance in results[0:closest_n]:\n",
        "        print(\"Score:   \", \"(Score: %.4f)\" % (1-distance) , \"\\n\" )\n",
        "        print(\"Paragraph:   \", corpus[idx].strip(), \"\\n\" )\n",
        "        row_dict = df.loc[df.index== corpus[idx]].to_dict()\n",
        "        print(\"paper_id:  \" , row_dict[\"paper_id\"][corpus[idx]] , \"\\n\")\n",
        "        print(\"Title:  \" , row_dict[\"title\"][corpus[idx]] , \"\\n\")\n",
        "        print(\"Abstract:  \" , row_dict[\"abstract\"][corpus[idx]] , \"\\n\")\n",
        "        print(\"Abstract_Summary:  \" , row_dict[\"abstract_summary\"][corpus[idx]] , \"\\n\")\n",
        "        print(\"-------------------------------------------\")"
      ],
      "execution_count": null,
      "outputs": [
        {
          "output_type": "display_data",
          "data": {
            "application/vnd.jupyter.widget-view+json": {
              "model_id": "069a9dce24794161884e64ebe98be6de",
              "version_minor": 0,
              "version_major": 2
            },
            "text/plain": [
              "Batches:   0%|          | 0/1 [00:00<?, ?it/s]"
            ]
          },
          "metadata": {}
        },
        {
          "output_type": "stream",
          "name": "stderr",
          "text": [
            "/usr/local/lib/python3.7/dist-packages/transformers/tokenization_utils_base.py:2227: UserWarning: `max_length` is ignored when `padding`=`True`.\n",
            "  warnings.warn(\"`max_length` is ignored when `padding`=`True`.\")\n"
          ]
        },
        {
          "output_type": "stream",
          "name": "stdout",
          "text": [
            "\n",
            "Top 5 most similar sentences in corpus:\n",
            "\n",
            "\n",
            "=========================================================\n",
            "==========================Query==============================\n",
            "=== What has been published about medical care? =====\n",
            "=========================================================\n",
            "Score:    (Score: 0.8872) \n",
            "\n",
            "Paragraph:    what is already known about this topic \n",
            "\n",
            "paper_id:   46790e3a6bb31a2629e42f1645878a2ffa185b87 \n",
            "\n",
            "Title:    Outcomes Among Patients Referred to<br>Outpatient Rehabilitation Clinics After COVID-19<br>diagnosis — United States, January 2020–March 2021 \n",
            "\n",
            "Abstract:   nan \n",
            "\n",
            "Abstract_Summary:   Not provided. \n",
            "\n",
            "-------------------------------------------\n",
            "Score:    (Score: 0.8511) \n",
            "\n",
            "Paragraph:    personal resources have also been investigated in this context \n",
            "\n",
            "paper_id:   466b40913c9b4740f1bee553ccbd9f01a2c46a71 \n",
            "\n",
            "Title:    Childbirth anxieties in the shadow of<br>COVID‐19: Self‐compassion and social support among<br>Jewish and Arab pregnant women in Israel \n",
            "\n",
            "Abstract:   infections and 768995 deaths in israel a country with a population of around 9 million as of today there are 92233 confirmed cases of the virus and 674 people have died at the time of data collecting and writing of the current study april 10 2020 1689000 individuals were infected and 102000 people have died worldwide as a result of the pandemic in israel which at that time was after a month of lockdown there were 10500 confirmed cases of the virus and 95 people have died the pandemic has dramatically affected the lives of millions of people around the globe shutting down businesses air travel and public services and literally quarantining people in their homes for weeks the crisis is accompanied by overwhelming uncertainty regarding countless aspects of both the near and more distant future findings from previous epidemics and pandemics show that\n",
            "the study examined two angles of childbirth anxieties of jewish and arab pregnant women in israel during the covid19 pandemic marchapril 2020 specifically we examined the contribution of personal resources selfcompassion and perceived social support as well as a couple of covid19related fears of being infected and concern for the foetus to both the womans global fear of childbirth foc and her covid19related childbirth anxiety participants were jewish and arab pregnant women n  403 aged 2047 who completed a set of structured selfreport questionnaires from 18 march to 9 april 2020 findings indicated that arab women reported higher level of covid19related childbirth anxiety and covid19related fears of being infected and concern for the foetus in addition poorer health being an arab woman being in the third trimester lower selfcompassion and higher covid19related fears contributed significantly to greater covid19related childbirth anxiety furthermore poorer health being primiparous atrisk pregnancy lower selfcompassion and higher fear of being infected contributed significantly to greater foc importantly social support was found to moderate the association between selfcompassion and foc the results highlight the need to be attentive to pregnant women in times of crisis and in particular to especially vulnerable subgroups such as cultural minorities they also highlight the importance of personal resources that may be applied in targeted interventions to reduce distress in vulnerable populations \n",
            "\n",
            "Abstract_Summary:    infections and 768,995 deaths. In Israel, a<br>country with a population of around 9 million, as of<br>today, there are 92,233 confirmed cases of the virus<br>and 674 people have died. At the time of data<br>collecting and writing of the current study (April 10,<br>2020), 1,689,000 individuals were infected and<br>102,000 people have died worldwide as a result of the<br>pandemic. In Israel, which at that time was after a month of<br>lockdown, there were 10,500 confirmed cases of the virus<br>and 95 people have died. The pandemic has<br>dramatically affected the lives of millions of people around<br>the... \n",
            "\n",
            "-------------------------------------------\n",
            "Score:    (Score: 0.8370) \n",
            "\n",
            "Paragraph:    what are the implications for public health practice \n",
            "\n",
            "paper_id:   46790e3a6bb31a2629e42f1645878a2ffa185b87 \n",
            "\n",
            "Title:    Outcomes Among Patients Referred to<br>Outpatient Rehabilitation Clinics After COVID-19<br>diagnosis — United States, January 2020–March 2021 \n",
            "\n",
            "Abstract:   nan \n",
            "\n",
            "Abstract_Summary:   Not provided. \n",
            "\n",
            "-------------------------------------------\n",
            "Score:    (Score: 0.7989) \n",
            "\n",
            "Paragraph:    how worried are you about the following things when it comes to asking older patients questions about abuse \n",
            "\n",
            "paper_id:   460211c890b908a26216f9dd5716afa3d14e106a \n",
            "\n",
            "Title:    Development and validation of REAGERA-P, a new<br>questionnaire to evaluate health care provider preparedness<br>to identify and manage elder abuse \n",
            "\n",
            "Abstract:   background elder abuse is prevalent and associated with morbidity but often goes unnoticed in health care research on the health care response to victims calls for valid measurements this article describes the development and validation of a questionnaire to evaluate health care provider preparedness to care for older adults subjected to abuse the reagerap responding to elder abuse in geriatric care provider questionnaire method reagerap was developed in phase i the questionnaire includes a case vignette selfefficacy scales for identifying and managing elder abuse cases and cause for concern as well as organizational barriers when talking with older patients about abuse content validity was ensured by a review committee and cognitive interviews were conducted to ensure face validity and to examine cognitive processes to ensure comprehension reagerap was then administered to health care providers n  154 response rate 99  to test for construct validity factor analysis was performed and internal consistency was tested for the selfefficacy scales convergent validity was tested by investigating associations between relevant variables some items were revised in phase ii and new cognitive interviews were performed parts of the questionnaire were tested for responsiveness by administering it to medical interns n  31 response rate 80  before and after an educational intervention results reagerap showed good content and face validity the factor analysis revealed two factors one for asking questions about abuse cronbachs   075 and one for managing the response to the questions cronbachs   087 results suggest good convergent validity for the selfefficacy scales and for questions about cause for concern and organizational barriers the responsiveness of the selfefficacy scales was good the mean on the scale for asking questions range 030 was 150 before the intervention and 215 afterwards the mean on the scale for managing the response range 050 was 224 before the intervention and 325 afterwards\n",
            "continued on next page \n",
            "\n",
            "Abstract_Summary:    Background: Elder abuse is prevalent and<br>associated with morbidity but often goes unnoticed in<br>health care. Research on the health care response to<br>victims calls for valid measurements. This article<br>describes the development and validation of a<br>questionnaire to evaluate health care provider preparedness<br>to care for older adults subjected to abuse, the<br>REAGERA-P (Responding to Elder Abuse in GERiAtric Care<br>-Provider questionnaire). Method: REAGERA-P was<br>developed in phase I. The questionnaire includes a case<br>vignette, self-efficacy scales for identifying and<br>managing elder abuse cases and cause for concern as well<br>as organizational barriers when talking with<br>older patients about... \n",
            "\n",
            "-------------------------------------------\n",
            "Score:    (Score: 0.7947) \n",
            "\n",
            "Paragraph:    what is added by this report \n",
            "\n",
            "paper_id:   46790e3a6bb31a2629e42f1645878a2ffa185b87 \n",
            "\n",
            "Title:    Outcomes Among Patients Referred to<br>Outpatient Rehabilitation Clinics After COVID-19<br>diagnosis — United States, January 2020–March 2021 \n",
            "\n",
            "Abstract:   nan \n",
            "\n",
            "Abstract_Summary:   Not provided. \n",
            "\n",
            "-------------------------------------------\n",
            "\n",
            "\n",
            "=========================================================\n",
            "==========================Query==============================\n",
            "=== Knowledge of the frequency, manifestations, and course of extrapulmonary manifestations of COVID-19, including, but not limited to, possible cardiomyopathy and cardiac arrest =====\n",
            "=========================================================\n",
            "Score:    (Score: 0.9106) \n",
            "\n",
            "Paragraph:    in consideration of low prevalence rates for covid19 patients 56  of participants are now considering changing back to normal and 42  have a specific returntonormal strategy most return strategies involve continuation of prescreening procedures for riskstratification as well as performing all endoscopy procedures in the future with surgical masks irrespective of covid19 risk \n",
            "\n",
            "paper_id:   46d6ce2b4b226e26ecf1f4487411f6768667791d \n",
            "\n",
            "Title:    Impact of the COVID-19 pandemic on<br>gastrointestinal endoscopy in Africa \n",
            "\n",
            "Abstract:   nan \n",
            "\n",
            "Abstract_Summary:   Not provided. \n",
            "\n",
            "-------------------------------------------\n",
            "Score:    (Score: 0.9081) \n",
            "\n",
            "Paragraph:    to our knowledge this atypical presentation of elevated ck and rhabdomyolysis in elderly patients as the initial manifestations of covid19 was not reported in the literature yet our cases emphasize the need to keep a high suspicion for covid 19 in elderly patients presenting with nonspecific findings always obtain chest imaging and consider checking inflammatory markers when in doubt obtain serology or rtpcr for sarscov2 \n",
            "\n",
            "paper_id:   466b52ca9b7508111e57b038e40a5a17b1b1895d \n",
            "\n",
            "Title:    Weakness and elevated creatinine kinase as the<br>initial presentation of coronavirus disease 2019<br>(COVID-19) \n",
            "\n",
            "Abstract:   covid19 is a global public health emergency with more than one million positive cases across the globe covid19 has a multifaceted presentation we are herein to report two cases of sarscov2 induced rhabdomyolysis with an initial presentation of weakness and elevated creatinine kinase ck both patients had no respiratory symptoms they only complained of generalized weakness and were found to have elevated ck routine chest xray showed bilateral infiltrates in both cases and subsequently reversetranscription polymerase chain reaction rtpcr for sarscov2 was positive to the best of our knowledge there was only one literature to date documented sarscov2 induced rhabdomyolysis as a late complication of covid19 patient our cases showed that elevated ck and rhabdomyolysis can be the sole initial presentation of patients with covid19 and total ck should be ordered in every patient on admission \n",
            "\n",
            "Abstract_Summary:    COVID-19 is a global public health emergency<br>with more than one million positive cases across the<br>globe. COVID-19 has a multifaceted presentation. We<br>are herein to report two cases of SARS-CoV-2<br>induced rhabdomyolysis with an initial presentation<br>of weakness and elevated creatinine kinase (CK).<br>Both patients had no respiratory symptoms, they<br>only complained of generalized weakness and were<br>found to have elevated CK. Routine chest Xray showed<br>bilateral infiltrates in both cases and subsequently<br>reverse-transcription polymerase chain reaction (RT-PCR) for<br>SARS-CoV-2 was positive. To the best of our knowledge,<br>there was only one literature to date documented<br>SARS-CoV-2 induced rhabdomyolysis... \n",
            "\n",
            "-------------------------------------------\n",
            "Score:    (Score: 0.9068) \n",
            "\n",
            "Paragraph:    although the covid19 pandemic has been difficult for everyone on a personal and professional level the anxiety of infection and social isolation will persist for immunocompromised families even as the risk of sarscov2 transmission subsides it is imperative that we leverage knowledge gained from this pandemic to improve the health and quality of life of immunocompromised children so that they may live without fear \n",
            "\n",
            "paper_id:   4693348ce3867ae19f4cfa83e5e25420ea7f059f \n",
            "\n",
            "Title:    Impact of COVID-19 on Pediatric<br>Immunocompromised Patients \n",
            "\n",
            "Abstract:   nan \n",
            "\n",
            "Abstract_Summary:   Not provided. \n",
            "\n",
            "-------------------------------------------\n",
            "Score:    (Score: 0.9064) \n",
            "\n",
            "Paragraph:    the current covid19 pandemic is reaching more and more regions countries and tens of thousands of new patients daily one symptom of the disease has not been fully recognized until the end of april at which point the reduction or the loss of olfactory function caused by the sarscov2 virus was added to the list of covid19 symptoms by the who in addition to the welldefined symptoms such as fever cough and shortness of breath httpswwwwhointhealthtopicscoronavirus tabtab_3 \n",
            "\n",
            "paper_id:   46758665fcb2360c9ac72b126132d20f7b0af7ac \n",
            "\n",
            "Title:    Loss of Olfactory Function—Early Indicator<br>for Covid-19, Other Viral Infections and<br>Neurodegenerative Disorders \n",
            "\n",
            "Abstract:   nan \n",
            "\n",
            "Abstract_Summary:   Not provided. \n",
            "\n",
            "-------------------------------------------\n",
            "Score:    (Score: 0.9050) \n",
            "\n",
            "Paragraph:    in summary angiotensinogen aso and sirna show promising results in rodent models for hypertension and kidney failure their longlasting effects are particularly exciting and if translated to a clinical application of at most a few administrations per year may help to eliminate nonadherence yet major hurdles remain with regard to both safety eg immune responses liver toxicity nonspecific effects what to do in situations where ras activity is acutely needed etc and efficacy particularly in the context of common comorbidities such as heart failure and chronic kidney disease and in combination with other ras blockers \n",
            "\n",
            "paper_id:   45cf4bcdf80e9ed9e3048485b0c57926028451d3 \n",
            "\n",
            "Title:    Novel Therapeutic Approaches Targeting the<br>Renin-Angiotensin System and Associated Peptides in<br>Hypertension and Heart Failure \n",
            "\n",
            "Abstract:   nan \n",
            "\n",
            "Abstract_Summary:   Not provided. \n",
            "\n",
            "-------------------------------------------\n",
            "\n",
            "\n",
            "=========================================================\n",
            "==========================Query==============================\n",
            "=== Why do I get a fever during covid? =====\n",
            "=========================================================\n",
            "Score:    (Score: 0.8518) \n",
            "\n",
            "Paragraph:    i think my child would enjoy doing something science related bit i just dont know where to start \n",
            "\n",
            "paper_id:   00013694fb8095bb818b64346f791a5419d97c88 \n",
            "\n",
            "Title:    Widening the divide: the impact of school<br>closures on primary science learning \n",
            "\n",
            "Abstract:   prolonged covid19related school closures in the uk raised concerns that science teaching and learning at primary level would be negatively impacted this paper reports the findings of phase 1 of a study that the authors are conducting with teachers and parents to explore this issue we found that a significant proportion of teachers were providing less science during lockdown than in the normal school week teachers particularly those working in more deprived areas reported that translating the science curriculum for home learning had been difficult with concerns around resources internet access and parental ability to help some areas of the curriculum posed particular difficulties leading to a narrowing of topics being taught both teachers and parents felt that schools prioritised english and maths above science meanwhile some parents reported that their children had engaged in sophisticated extracurricular activities bolstered by resources available at home and knowledgeable adult help but others said that their children had done no science at all parents who had studied science at postcompulsory level were much more comfortable in helping their children with science home learning these factors combine to create conditions which may exacerbate existing inequalities as to who can access science education and careers \n",
            "\n",
            "Abstract_Summary:    Prolonged Covid-19-related school closures<br>in the UK raised concerns that science teaching<br>and learning at primary level would be negatively<br>impacted. This paper reports the findings of phase 1 of a<br>study that the authors are conducting with teachers<br>and parents to explore this issue. We found that a<br>significant proportion of teachers were providing less<br>science during lockdown than in the normal school week.<br>Teachers, particularly those working in more deprived<br>areas, reported that translating the science<br>curriculum for home learning had been difficult, with<br>concerns around resources, internet access and<br>parental ability to help. Some areas of the... \n",
            "\n",
            "-------------------------------------------\n",
            "Score:    (Score: 0.8335) \n",
            "\n",
            "Paragraph:    at present how would you manage to do the following things in your work \n",
            "\n",
            "paper_id:   460211c890b908a26216f9dd5716afa3d14e106a \n",
            "\n",
            "Title:    Development and validation of REAGERA-P, a new<br>questionnaire to evaluate health care provider preparedness<br>to identify and manage elder abuse \n",
            "\n",
            "Abstract:   background elder abuse is prevalent and associated with morbidity but often goes unnoticed in health care research on the health care response to victims calls for valid measurements this article describes the development and validation of a questionnaire to evaluate health care provider preparedness to care for older adults subjected to abuse the reagerap responding to elder abuse in geriatric care provider questionnaire method reagerap was developed in phase i the questionnaire includes a case vignette selfefficacy scales for identifying and managing elder abuse cases and cause for concern as well as organizational barriers when talking with older patients about abuse content validity was ensured by a review committee and cognitive interviews were conducted to ensure face validity and to examine cognitive processes to ensure comprehension reagerap was then administered to health care providers n  154 response rate 99  to test for construct validity factor analysis was performed and internal consistency was tested for the selfefficacy scales convergent validity was tested by investigating associations between relevant variables some items were revised in phase ii and new cognitive interviews were performed parts of the questionnaire were tested for responsiveness by administering it to medical interns n  31 response rate 80  before and after an educational intervention results reagerap showed good content and face validity the factor analysis revealed two factors one for asking questions about abuse cronbachs   075 and one for managing the response to the questions cronbachs   087 results suggest good convergent validity for the selfefficacy scales and for questions about cause for concern and organizational barriers the responsiveness of the selfefficacy scales was good the mean on the scale for asking questions range 030 was 150 before the intervention and 215 afterwards the mean on the scale for managing the response range 050 was 224 before the intervention and 325 afterwards\n",
            "continued on next page \n",
            "\n",
            "Abstract_Summary:    Background: Elder abuse is prevalent and<br>associated with morbidity but often goes unnoticed in<br>health care. Research on the health care response to<br>victims calls for valid measurements. This article<br>describes the development and validation of a<br>questionnaire to evaluate health care provider preparedness<br>to care for older adults subjected to abuse, the<br>REAGERA-P (Responding to Elder Abuse in GERiAtric Care<br>-Provider questionnaire). Method: REAGERA-P was<br>developed in phase I. The questionnaire includes a case<br>vignette, self-efficacy scales for identifying and<br>managing elder abuse cases and cause for concern as well<br>as organizational barriers when talking with<br>older patients about... \n",
            "\n",
            "-------------------------------------------\n",
            "Score:    (Score: 0.8320) \n",
            "\n",
            "Paragraph:    did do you have any worries or concerns about your injury or recovery \n",
            "\n",
            "paper_id:   467ca457c0962ffa1d5375325d427797c865fe10 \n",
            "\n",
            "Title:    Co-producing a multi-stakeholder Core<br>Outcome Set for distal Tibia and Ankle fractures<br>(COSTA): a study protocol \n",
            "\n",
            "Abstract:   background ankle fracture is a common injury with a strong evidence base focused on effectiveness of treatments however there are no reporting guidelines on distal tibia and ankle fractures this has led to heterogeneity in outcome reporting and consequently restricted the contribution of evidence syntheses over the past decade core outcome sets have been developed to address this issue and are available for several common fractures including those of the hip distal radius and open tibial fractures this protocol describes the process to coproducewith patient partners and other key stakeholdersa multistakeholder derived core outcome set for distal tibia and ankle fractures costa the scope of costa will be for clinical trials\n",
            "methods the study will have fivestages which will include the following i systematic reviews of existing qualitative studies and outcome reporting in randomised controlled trial studies to inform a developing list of potential outcome domains ii qualitative interviews including secondary data and focus groups with patients and healthcare professionals to explore the impact of ankle fracture and the outcomes that really matter iii generation of meaningful outcome statements with the study team international advisory group and patient partners iv a multiround international edelphi study to achieve consensus on the core domain set and v an evidencebased consensus on a core measurement set will be achieved through a structured group consensus meeting recommending best assessment approaches for each of the domains in the core domain set\n",
            "discussion development of costa will provide internationally endorsed outcome assessment guidance for clinical trials for distal tibia and ankle fractures this will enhance comparative reviews of interventions potentially reducing reporting bias and research waste \n",
            "\n",
            "Abstract_Summary:    Background: Ankle fracture is a common injury<br>with a strong evidence base focused on<br>effectiveness of treatments. However, there are no reporting<br>guidelines on distal tibia and ankle fractures. This has<br>led to heterogeneity in outcome reporting and<br>consequently, restricted the contribution of evidence<br>syntheses. Over the past decade, core outcome sets have<br>been developed to address this issue and are<br>available for several common fractures, including those<br>of the hip, distal radius, and open tibial<br>fractures. This protocol describes the process to<br>co-produce-with patient partners and other key stakeholders-a<br>multi-stakeholder derived Core Outcome Set for distal Tibia and<br>Ankle... \n",
            "\n",
            "-------------------------------------------\n",
            "Score:    (Score: 0.8259) \n",
            "\n",
            "Paragraph:    so you wouldnt have any problems filling that in and accessing the link \n",
            "\n",
            "paper_id:   45fd4154cd69e83b868dc1480d9ae792211b8506 \n",
            "\n",
            "Title:    Developing a clinical pathway to identify and<br>manage cognitive problems in Multiple Sclerosis:<br>Qualitative findings from patients, family members,<br>charity volunteers, clinicians and healthcare<br>commissioners \n",
            "\n",
            "Abstract:   nan \n",
            "\n",
            "Abstract_Summary:   Not provided. \n",
            "\n",
            "-------------------------------------------\n",
            "Score:    (Score: 0.8184) \n",
            "\n",
            "Paragraph:    finally a comment that immunocompromised parents hear is i finally understand what it is like to live like you i am afraid to get an infection i cannot just go anywhere i want to go anymore \n",
            "\n",
            "paper_id:   4693348ce3867ae19f4cfa83e5e25420ea7f059f \n",
            "\n",
            "Title:    Impact of COVID-19 on Pediatric<br>Immunocompromised Patients \n",
            "\n",
            "Abstract:   nan \n",
            "\n",
            "Abstract_Summary:   Not provided. \n",
            "\n",
            "-------------------------------------------\n"
          ]
        }
      ]
    }
  ]
}